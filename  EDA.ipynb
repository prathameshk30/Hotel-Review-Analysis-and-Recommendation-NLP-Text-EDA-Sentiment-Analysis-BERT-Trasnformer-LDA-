{
 "cells": [
  {
   "cell_type": "markdown",
   "id": "cc982f41",
   "metadata": {},
   "source": [
    "# Text Analytics -EDA"
   ]
  },
  {
   "cell_type": "code",
   "execution_count": null,
   "id": "0cb8da92",
   "metadata": {},
   "outputs": [],
   "source": [
    "import pandas as pd\n",
    "import warnings\n",
    "import matplotlib.pyplot as plt"
   ]
  },
  {
   "cell_type": "code",
   "execution_count": 2,
   "id": "b7706cc8",
   "metadata": {},
   "outputs": [
    {
     "data": {
      "text/html": [
       "<div>\n",
       "<style scoped>\n",
       "    .dataframe tbody tr th:only-of-type {\n",
       "        vertical-align: middle;\n",
       "    }\n",
       "\n",
       "    .dataframe tbody tr th {\n",
       "        vertical-align: top;\n",
       "    }\n",
       "\n",
       "    .dataframe thead th {\n",
       "        text-align: right;\n",
       "    }\n",
       "</style>\n",
       "<table border=\"1\" class=\"dataframe\">\n",
       "  <thead>\n",
       "    <tr style=\"text-align: right;\">\n",
       "      <th></th>\n",
       "      <th>Customer Review</th>\n",
       "      <th>text</th>\n",
       "    </tr>\n",
       "  </thead>\n",
       "  <tbody>\n",
       "    <tr>\n",
       "      <th>0</th>\n",
       "      <td>Review 1</td>\n",
       "      <td>I travel alot and really enjoyed my stay here....</td>\n",
       "    </tr>\n",
       "    <tr>\n",
       "      <th>1</th>\n",
       "      <td>Review 2</td>\n",
       "      <td>Stayed one night for a seminar at the Universi...</td>\n",
       "    </tr>\n",
       "    <tr>\n",
       "      <th>2</th>\n",
       "      <td>Review 3</td>\n",
       "      <td>I stayed at the the BW Downtown on two separat...</td>\n",
       "    </tr>\n",
       "    <tr>\n",
       "      <th>3</th>\n",
       "      <td>Review 4</td>\n",
       "      <td>This is my first year to go to with a group of...</td>\n",
       "    </tr>\n",
       "    <tr>\n",
       "      <th>4</th>\n",
       "      <td>Review 5</td>\n",
       "      <td>I travel with several friends (we're from a sm...</td>\n",
       "    </tr>\n",
       "  </tbody>\n",
       "</table>\n",
       "</div>"
      ],
      "text/plain": [
       "  Customer Review                                               text\n",
       "0        Review 1  I travel alot and really enjoyed my stay here....\n",
       "1        Review 2  Stayed one night for a seminar at the Universi...\n",
       "2        Review 3  I stayed at the the BW Downtown on two separat...\n",
       "3        Review 4  This is my first year to go to with a group of...\n",
       "4        Review 5  I travel with several friends (we're from a sm..."
      ]
     },
     "execution_count": 2,
     "metadata": {},
     "output_type": "execute_result"
    }
   ],
   "source": [
    "df= pd.read_excel(r\"C:\\Users\\Dinesh\\Downloads\\TextAnalyticsCase (2).xlsx\", sheet_name='Hotel_reviews')\n",
    "df.head(5)"
   ]
  },
  {
   "cell_type": "code",
   "execution_count": 3,
   "id": "5f381afc",
   "metadata": {},
   "outputs": [
    {
     "name": "stdout",
     "output_type": "stream",
     "text": [
      "<class 'pandas.core.frame.DataFrame'>\n",
      "RangeIndex: 200 entries, 0 to 199\n",
      "Data columns (total 2 columns):\n",
      " #   Column           Non-Null Count  Dtype \n",
      "---  ------           --------------  ----- \n",
      " 0   Customer Review  200 non-null    object\n",
      " 1   text             200 non-null    object\n",
      "dtypes: object(2)\n",
      "memory usage: 3.2+ KB\n"
     ]
    }
   ],
   "source": [
    "df.info()"
   ]
  },
  {
   "cell_type": "code",
   "execution_count": 4,
   "id": "296faa83",
   "metadata": {},
   "outputs": [
    {
     "data": {
      "text/html": [
       "<div>\n",
       "<style scoped>\n",
       "    .dataframe tbody tr th:only-of-type {\n",
       "        vertical-align: middle;\n",
       "    }\n",
       "\n",
       "    .dataframe tbody tr th {\n",
       "        vertical-align: top;\n",
       "    }\n",
       "\n",
       "    .dataframe thead th {\n",
       "        text-align: right;\n",
       "    }\n",
       "</style>\n",
       "<table border=\"1\" class=\"dataframe\">\n",
       "  <thead>\n",
       "    <tr style=\"text-align: right;\">\n",
       "      <th></th>\n",
       "      <th>Customer Review</th>\n",
       "      <th>text</th>\n",
       "    </tr>\n",
       "  </thead>\n",
       "  <tbody>\n",
       "    <tr>\n",
       "      <th>0</th>\n",
       "      <td>Review 1</td>\n",
       "      <td>I travel alot and really enjoyed my stay here....</td>\n",
       "    </tr>\n",
       "    <tr>\n",
       "      <th>1</th>\n",
       "      <td>Review 2</td>\n",
       "      <td>Stayed one night for a seminar at the Universi...</td>\n",
       "    </tr>\n",
       "    <tr>\n",
       "      <th>2</th>\n",
       "      <td>Review 3</td>\n",
       "      <td>I stayed at the the BW Downtown on two separat...</td>\n",
       "    </tr>\n",
       "    <tr>\n",
       "      <th>3</th>\n",
       "      <td>Review 4</td>\n",
       "      <td>This is my first year to go to with a group of...</td>\n",
       "    </tr>\n",
       "    <tr>\n",
       "      <th>4</th>\n",
       "      <td>Review 5</td>\n",
       "      <td>I travel with several friends (we're from a sm...</td>\n",
       "    </tr>\n",
       "  </tbody>\n",
       "</table>\n",
       "</div>"
      ],
      "text/plain": [
       "  Customer Review                                               text\n",
       "0        Review 1  I travel alot and really enjoyed my stay here....\n",
       "1        Review 2  Stayed one night for a seminar at the Universi...\n",
       "2        Review 3  I stayed at the the BW Downtown on two separat...\n",
       "3        Review 4  This is my first year to go to with a group of...\n",
       "4        Review 5  I travel with several friends (we're from a sm..."
      ]
     },
     "execution_count": 4,
     "metadata": {},
     "output_type": "execute_result"
    }
   ],
   "source": [
    "df.head()"
   ]
  },
  {
   "cell_type": "code",
   "execution_count": 5,
   "id": "233af089",
   "metadata": {},
   "outputs": [],
   "source": [
    "df = df.rename(columns={'Customer Review': 'Review' })"
   ]
  },
  {
   "cell_type": "markdown",
   "id": "30af15ff",
   "metadata": {},
   "source": [
    "## Conducting Exploratory data analysis"
   ]
  },
  {
   "cell_type": "code",
   "execution_count": 6,
   "id": "bd184bb0",
   "metadata": {},
   "outputs": [
    {
     "data": {
      "image/png": "[encoded data removed]",
      "text/plain": [
       "<Figure size 720x432 with 1 Axes>"
      ]
     },
     "metadata": {
      "needs_background": "light"
     },
     "output_type": "display_data"
    }
   ],
   "source": [
    "import seaborn as sns\n",
    "plt.figure(figsize=(10,6))\n",
    "doc_lens = [len(d) for d in df.text]\n",
    "plt.hist(doc_lens, bins = 100)\n",
    "plt.title('Distribution of Review character length')\n",
    "plt.ylabel('Number of Review')\n",
    "plt.xlabel('Review character length')\n",
    "sns.despine();"
   ]
  },
  {
   "cell_type": "code",
   "execution_count": 7,
   "id": "2854ead2",
   "metadata": {},
   "outputs": [
    {
     "name": "stdout",
     "output_type": "stream",
     "text": [
      "Requirement already satisfied: plotly in c:\\users\\dinesh\\anaconda3\\lib\\site-packages (5.6.0)\n",
      "Requirement already satisfied: tenacity>=6.2.0 in c:\\users\\dinesh\\anaconda3\\lib\\site-packages (from plotly) (8.0.1)\n",
      "Requirement already satisfied: six in c:\\users\\dinesh\\anaconda3\\lib\\site-packages (from plotly) (1.15.0)\n"
     ]
    },
    {
     "data": {
      "text/html": [
       "        <script type=\"text/javascript\">\n",
       "        window.PlotlyConfig = {MathJaxConfig: 'local'};\n",
       "        if (window.MathJax) {MathJax.Hub.Config({SVG: {font: \"STIX-Web\"}});}\n",
       "        if (typeof require !== 'undefined') {\n",
       "        require.undef(\"plotly\");\n",
       "        requirejs.config({\n",
       "            paths: {\n",
       "                'plotly': ['https://cdn.plot.ly/plotly-2.9.0.min']\n",
       "            }\n",
       "        });\n",
       "        require(['plotly'], function(Plotly) {\n",
       "            window._Plotly = Plotly;\n",
       "        });\n",
       "        }\n",
       "        </script>\n",
       "        "
      ]
     },
     "metadata": {},
     "output_type": "display_data"
    }
   ],
   "source": [
    "import matplotlib.pyplot as plt\n",
    "import seaborn as sns\n",
    "color = sns.color_palette()\n",
    "%matplotlib inline\n",
    "!pip install plotly\n",
    "import plotly.offline as py\n",
    "py.init_notebook_mode(connected=True)\n",
    "import plotly.graph_objs as go\n",
    "import plotly.tools as tls\n",
    "import plotly.express as px\n",
    "# Product Scores"
   ]
  },
  {
   "cell_type": "code",
   "execution_count": 8,
   "id": "f398f767",
   "metadata": {},
   "outputs": [
    {
     "name": "stderr",
     "output_type": "stream",
     "text": [
      "<ipython-input-8-865f5065a5e6>:8: FutureWarning:\n",
      "\n",
      "The default value of regex will change from True to False in a future version.\n",
      "\n",
      "<ipython-input-8-865f5065a5e6>:11: FutureWarning:\n",
      "\n",
      "The default value of regex will change from True to False in a future version.\n",
      "\n"
     ]
    }
   ],
   "source": [
    "## Change the reviews type to string\n",
    "df['text'] = df['text'].astype(str)\n",
    "\n",
    "## Lowercase all reviews\n",
    "df['text'] = df['text'].apply(lambda x: \" \".join(x.lower() for x in x.split()))\n",
    "\n",
    "## remove punctuation\n",
    "df['text']= df['text'].str.replace('[^\\\\w\\\\s]','')\n",
    "\n",
    "# Removing numbers \n",
    "df['text']= df['text'].str.replace('\\\\d+', '')"
   ]
  },
  {
   "cell_type": "code",
   "execution_count": 9,
   "id": "def5be4b",
   "metadata": {},
   "outputs": [],
   "source": [
    "from nltk.corpus import stopwords\n",
    "stop = stopwords.words('english')\n",
    "df['text']= df['text'].apply(lambda x: \" \".join(x for x in x.split() if x not in stop))"
   ]
  },
  {
   "cell_type": "code",
   "execution_count": 10,
   "id": "0e190919",
   "metadata": {},
   "outputs": [
    {
     "data": {
      "text/plain": [
       "0      travel alot really enjoyed stay hotel clean st...\n",
       "1      stayed one night seminar university clean comf...\n",
       "2      stayed bw downtown two separate business trips...\n",
       "3      first year go group quilter southeast kansas i...\n",
       "4      travel several friends small town girls weeken...\n",
       "                             ...                        \n",
       "195    try use excuse celebrate weekend hotel sorella...\n",
       "196    sorella nice contemporary hotel quiet hotel tr...\n",
       "197    dieses ist immer wieder eines meiner favourite...\n",
       "198    schne zimmer und sind sehr gut eingerichtet se...\n",
       "199    quite bit downtown youre area theres probably ...\n",
       "Name: text, Length: 200, dtype: object"
      ]
     },
     "execution_count": 10,
     "metadata": {},
     "output_type": "execute_result"
    }
   ],
   "source": [
    "df['text']"
   ]
  },
  {
   "cell_type": "code",
   "execution_count": 11,
   "id": "b40fdc04",
   "metadata": {},
   "outputs": [
    {
     "data": {
      "image/png": "[encoded data removed]",
      "text/plain": [
       "<Figure size 720x720 with 1 Axes>"
      ]
     },
     "metadata": {
      "needs_background": "light"
     },
     "output_type": "display_data"
    }
   ],
   "source": [
    "### Plot word cloud for the data\n",
    "freq = pd.Series(' '.join(df['text']).split()).value_counts()[:30]\n",
    "freq_df = pd.DataFrame({'text':freq.index, 'count':freq.values})\n",
    "data = freq_df.set_index('text').to_dict()['count']\n",
    "from wordcloud import WordCloud\n",
    "wc = WordCloud(background_color = 'white', width=800, height=400, max_words=200).generate_from_frequencies(data)\n",
    "\n",
    "import matplotlib.pyplot as plt\n",
    "plt.figure(figsize=(10, 10))\n",
    "plt.imshow(wc, interpolation='bilinear')\n",
    "plt.axis('off')\n",
    "plt.show()"
   ]
  },
  {
   "cell_type": "code",
   "execution_count": 12,
   "id": "d02595d0",
   "metadata": {},
   "outputs": [],
   "source": [
    "#warnings.filterwarnings(action='once')\n",
    "warnings.filterwarnings('ignore')"
   ]
  },
  {
   "cell_type": "code",
   "execution_count": 13,
   "id": "0dc9ecd2",
   "metadata": {},
   "outputs": [],
   "source": [
    "from sklearn.feature_extraction.text import CountVectorizer, TfidfVectorizer\n",
    "from __future__ import print_function\n",
    "import pyLDAvis\n",
    "import pyLDAvis.sklearn\n",
    "#pyLDAvis.enable_notebook()"
   ]
  },
  {
   "cell_type": "code",
   "execution_count": 15,
   "id": "d335217d",
   "metadata": {},
   "outputs": [
    {
     "name": "stderr",
     "output_type": "stream",
     "text": [
      "C:\\Users\\Dinesh\\anaconda3\\lib\\site-packages\\ipykernel\\ipkernel.py:287: DeprecationWarning:\n",
      "\n",
      "`should_run_async` will not call `transform_cell` automatically in the future. Please pass the result to `transformed_cell` argument and any exception that happen during thetransform in `preprocessing_exc_tuple` in IPython 7.17 and above.\n",
      "\n"
     ]
    },
    {
     "data": {
      "text/plain": [
       "pandas.core.series.Series"
      ]
     },
     "execution_count": 15,
     "metadata": {},
     "output_type": "execute_result"
    }
   ],
   "source": [
    "type(df['text'])"
   ]
  },
  {
   "cell_type": "code",
   "execution_count": 16,
   "id": "97a6ff60",
   "metadata": {},
   "outputs": [
    {
     "name": "stderr",
     "output_type": "stream",
     "text": [
      "C:\\Users\\Dinesh\\anaconda3\\lib\\site-packages\\ipykernel\\ipkernel.py:287: DeprecationWarning:\n",
      "\n",
      "`should_run_async` will not call `transform_cell` automatically in the future. Please pass the result to `transformed_cell` argument and any exception that happen during thetransform in `preprocessing_exc_tuple` in IPython 7.17 and above.\n",
      "\n"
     ]
    },
    {
     "data": {
      "text/plain": [
       "<200x827 sparse matrix of type '<class 'numpy.int64'>'\n",
       "\twith 7163 stored elements in Compressed Sparse Row format>"
      ]
     },
     "execution_count": 16,
     "metadata": {},
     "output_type": "execute_result"
    }
   ],
   "source": [
    "from sklearn.decomposition import LatentDirichletAllocation\n",
    "vectorizer = CountVectorizer(\n",
    "analyzer='word',       \n",
    "min_df=3,# minimum required occurences of a word \n",
    "stop_words='english',# remove stop words\n",
    "lowercase=True,# convert all words to lowercase\n",
    "token_pattern='[a-zA-Z0-9]{3,}',# num chars > 3\n",
    "max_features=5000,# max number of unique words\n",
    "                            )\n",
    "data_matrix = vectorizer.fit_transform(df['text'].astype(str))\n",
    "data_matrix"
   ]
  },
  {
   "cell_type": "code",
   "execution_count": 17,
   "id": "b3899650",
   "metadata": {},
   "outputs": [
    {
     "name": "stderr",
     "output_type": "stream",
     "text": [
      "C:\\Users\\Dinesh\\anaconda3\\lib\\site-packages\\ipykernel\\ipkernel.py:287: DeprecationWarning:\n",
      "\n",
      "`should_run_async` will not call `transform_cell` automatically in the future. Please pass the result to `transformed_cell` argument and any exception that happen during thetransform in `preprocessing_exc_tuple` in IPython 7.17 and above.\n",
      "\n"
     ]
    }
   ],
   "source": [
    "lda_model = LatentDirichletAllocation(\n",
    "n_components=5, # Number of topics\n",
    "learning_method='online',\n",
    "random_state=20,       \n",
    "n_jobs = -1 )\n",
    "                                     \n",
    "lda_output = lda_model.fit_transform(data_matrix)"
   ]
  },
  {
   "cell_type": "code",
   "execution_count": 18,
   "id": "3f25d172",
   "metadata": {},
   "outputs": [
    {
     "name": "stderr",
     "output_type": "stream",
     "text": [
      "C:\\Users\\Dinesh\\anaconda3\\lib\\site-packages\\ipykernel\\ipkernel.py:287: DeprecationWarning:\n",
      "\n",
      "`should_run_async` will not call `transform_cell` automatically in the future. Please pass the result to `transformed_cell` argument and any exception that happen during thetransform in `preprocessing_exc_tuple` in IPython 7.17 and above.\n",
      "\n"
     ]
    },
    {
     "data": {
      "text/html": [
       "\n",
       "<link rel=\"stylesheet\" type=\"text/css\" href=\"https://cdn.jsdelivr.net/gh/bmabey/pyLDAvis@3.3.1/pyLDAvis/js/ldavis.v1.0.0.css\">\n",
       "\n",
       "\n",
       "<div id=\"ldavis_el2352827635511879044052618095\"></div>\n",
       "<script type=\"text/javascript\">\n",
       "\n",
       "var ldavis_el2352827635511879044052618095_data = {\"mdsDat\": {\"x\": [150.22215270996094, 51.16336441040039, -73.1445541381836, -66.4101333618164, 54.41732406616211], \"y\": [-72.2695541381836, -159.968017578125, 21.523815155029297, -110.60643768310547, 12.44344425201416], \"topics\": [1, 2, 3, 4, 5], \"cluster\": [1, 1, 1, 1, 1], \"Freq\": [66.1628309385078, 18.466871291824244, 11.43478701390397, 2.344374970793448, 1.591135784970555]}, \"tinfo\": {\"Term\": [\"hotel\", \"new\", \"und\", \"really\", \"sherry\", \"houston\", \"city\", \"park\", \"sehr\", \"great\", \"hilton\", \"room\", \"central\", \"service\", \"suite\", \"rooms\", \"das\", \"reviews\", \"location\", \"people\", \"place\", \"way\", \"ein\", \"staff\", \"york\", \"floor\", \"year\", \"center\", \"time\", \"ist\", \"time\", \"houston\", \"sorella\", \"large\", \"morning\", \"lot\", \"close\", \"needed\", \"music\", \"early\", \"access\", \"decided\", \"check\", \"afternoon\", \"fruit\", \"called\", \"work\", \"travel\", \"car\", \"took\", \"night\", \"general\", \"cereal\", \"ive\", \"pretty\", \"recommend\", \"doesnt\", \"located\", \"downtown\", \"worked\", \"free\", \"weekend\", \"hotel\", \"area\", \"clean\", \"little\", \"stay\", \"business\", \"hot\", \"breakfast\", \"good\", \"staff\", \"comfortable\", \"room\", \"nice\", \"stayed\", \"rooms\", \"great\", \"friendly\", \"pool\", \"people\", \"service\", \"center\", \"location\", \"really\", \"best\", \"hotels\", \"helpful\", \"new\", \"like\", \"size\", \"watch\", \"sink\", \"bath\", \"traveling\", \"space\", \"chance\", \"chocolate\", \"ate\", \"end\", \"families\", \"selection\", \"doorman\", \"allergies\", \"counter\", \"superb\", \"gave\", \"kitchen\", \"chairs\", \"theyre\", \"lexington\", \"manhattan\", \"situated\", \"midtown\", \"pick\", \"kudos\", \"fabulous\", \"plenty\", \"sheets\", \"square\", \"bedroom\", \"suite\", \"looks\", \"blocks\", \"place\", \"carlos\", \"san\", \"great\", \"room\", \"loved\", \"nyc\", \"floor\", \"small\", \"nice\", \"helpful\", \"old\", \"staff\", \"got\", \"desk\", \"coffee\", \"hotel\", \"near\", \"location\", \"breakfast\", \"like\", \"good\", \"clean\", \"rooms\", \"stayed\", \"really\", \"stay\", \"friendly\", \"excellent\", \"new\", \"bed\", \"sherry\", \"fifth\", \"cipriani\", \"views\", \"harry\", \"memorial\", \"elegance\", \"option\", \"flowers\", \"afford\", \"sherrynetherland\", \"avenue\", \"handwritten\", \"entrance\", \"upper\", \"chocolates\", \"attached\", \"ciprianis\", \"netherland\", \"apple\", \"overlooking\", \"appointed\", \"operators\", \"attentive\", \"central\", \"ave\", \"immediately\", \"elevator\", \"gorgeous\", \"corner\", \"touches\", \"city\", \"park\", \"feel\", \"new\", \"york\", \"plaza\", \"floor\", \"visit\", \"view\", \"location\", \"rooms\", \"service\", \"hotel\", \"like\", \"staff\", \"felt\", \"bar\", \"excellent\", \"stay\", \"great\", \"best\", \"beautiful\", \"room\", \"und\", \"sehr\", \"das\", \"ein\", \"ist\", \"zimmer\", \"empfehlen\", \"immer\", \"aber\", \"war\", \"die\", \"john\", \"festival\", \"quilt\", \"extended\", \"man\", \"personal\", \"bell\", \"rest\", \"sightseeing\", \"forgot\", \"international\", \"group\", \"accommodate\", \"netherland\", \"manhattan\", \"standard\", \"year\", \"hilton\", \"garden\", \"sonny\", \"park\", \"sherry\", \"hotel\", \"internet\", \"fitness\", \"houston\", \"service\", \"center\", \"new\", \"business\", \"meeting\", \"average\", \"forgot\", \"helped\", \"guys\", \"choose\", \"slightly\", \"hgi\", \"ran\", \"kitchen\", \"answer\", \"catering\", \"products\", \"pick\", \"maybe\", \"review\", \"downside\", \"perfectly\", \"works\", \"ones\", \"thanks\", \"office\", \"response\", \"colleagues\", \"similar\", \"end\", \"theres\", \"corridor\", \"details\", \"bother\", \"reviews\", \"set\", \"checkin\", \"person\", \"things\", \"week\", \"really\", \"outstanding\", \"think\", \"way\", \"manager\", \"didnt\", \"people\", \"courtyard\", \"dont\", \"central\", \"actually\"], \"Freq\": [308.0, 59.0, 13.0, 43.0, 22.0, 56.0, 34.0, 24.0, 9.0, 121.0, 14.0, 152.0, 21.0, 57.0, 40.0, 86.0, 7.0, 11.0, 64.0, 22.0, 45.0, 23.0, 7.0, 132.0, 21.0, 30.0, 12.0, 24.0, 54.0, 6.0, 52.58292727077959, 54.479454604618596, 19.37534757366912, 15.474791966137008, 16.143959856123004, 11.324642480008682, 15.967162818948594, 9.993340485739031, 13.75141237076823, 13.181952259940177, 12.560525234927615, 14.38673209157197, 19.85658551683364, 7.9665098504992775, 8.571844242576347, 8.578876907337747, 8.554109902336316, 9.12889560821116, 8.489630886291119, 11.70956070690521, 33.662281837845796, 7.824161488443567, 10.978155101292666, 12.874062253555609, 9.455481875193003, 26.506172283627013, 6.485116310376609, 18.985197267972893, 15.898123525712064, 6.564396727526802, 53.91527469821654, 25.714188926691193, 260.72731026324715, 49.29985708357452, 75.38601994076453, 24.651877215724024, 91.14945128441076, 36.40191972382863, 17.492792405438184, 73.80330691243014, 68.78794164606425, 98.83583474138278, 37.711516372067834, 110.85610882920558, 68.49625006974067, 45.47180934793287, 61.10936721161928, 81.22734589940806, 42.148094801237384, 29.36500309115855, 19.53417643818035, 40.78100885713758, 20.651829930758655, 40.79642778132461, 29.54647993071081, 23.678443353382132, 22.14134041889832, 24.751251810222318, 28.839132903284675, 24.10512681788146, 5.80331501552921, 4.5274568839345966, 4.502881399341567, 3.4371142363827802, 3.3175240207692402, 10.977806312504665, 2.736807186116405, 6.249115550847706, 2.727948843572751, 3.3911829935166873, 3.5687914831210725, 4.409472394687334, 3.977641011730518, 2.1211569200090703, 3.506620078953342, 3.8992553349227346, 4.288281993208697, 3.3674742754960603, 2.892678817376313, 2.4311014083716915, 3.2246535810291705, 5.39058405567743, 2.757432587080864, 7.451378533070651, 2.1225731463492252, 2.7231101238627122, 3.97012593713916, 8.509375939398376, 2.7367839994791523, 5.873313120038862, 5.8732343266859335, 22.303668351624353, 4.948864375298902, 4.180903576517266, 19.760590133210158, 13.949187417582326, 13.834317788691548, 33.16452353552909, 35.96151680599874, 7.4610463345421305, 11.789281479011551, 10.931520903228204, 10.745153113625657, 19.456652922755303, 11.631905353244017, 7.828288442003465, 21.43576887569646, 6.6796095473944135, 10.235472750288663, 8.08479199723211, 26.257989171386434, 6.899491245939797, 12.391765139201912, 14.166755670806236, 9.967986788607256, 12.864454229264485, 12.897458726317517, 12.699730482493868, 10.772260200303842, 9.786098882584207, 12.742345119647325, 10.13022723546425, 8.381522439789425, 9.080312517397145, 7.882957945562387, 20.25062723400107, 4.36159487447247, 4.365233102672403, 4.33240469235758, 4.344207015058833, 8.066940366129911, 3.0536197765632043, 3.013289202151474, 3.0141920687977763, 2.983156122186558, 5.181305674366033, 5.824815117850998, 2.3342255430859695, 2.3290269761545566, 2.290246213876548, 2.326582024422815, 2.280915011465353, 2.2631265711732804, 4.9640496424697345, 3.0554680605269597, 4.7708519552855675, 6.533528533988387, 2.5237497890511573, 2.157115232868309, 11.683581885196922, 1.6678426065112715, 1.663218884741623, 6.4013524972298805, 1.6326166951293284, 4.613683244761897, 1.9620220897389589, 15.960601501058225, 11.309353007583171, 5.591035529510638, 20.48617044154608, 8.502819012295816, 4.998544138107788, 8.77742089334589, 5.232886979740243, 5.982635974875483, 10.650181641230589, 12.36505586333034, 9.35917469596664, 17.769492878235255, 7.490759271323422, 11.1792476531673, 4.706113365086735, 5.8844940085701545, 5.845836118394406, 7.135803456028736, 6.671407755717756, 5.4846383689427265, 5.084283516474909, 5.554080334248599, 11.950160086820757, 8.72314999370428, 6.712446345031114, 6.075571621004029, 5.43678367648722, 4.648804187299946, 2.7721690338186886, 2.1133177954698117, 2.109067692543937, 2.091007116674662, 3.2379223512024073, 0.8826871856108119, 0.8610872513918805, 0.8765141118893726, 0.7723212747401336, 1.9866075034968806, 1.5600281471552044, 0.7558207542751756, 0.7924273402738423, 0.7687354639355775, 0.4719005269454354, 0.7790326173016212, 0.4715456894628875, 0.46248587281165376, 1.1552914861416783, 1.3503983754862783, 0.7920749315849718, 1.7660201568221194, 2.1519480342931687, 0.7821826786054316, 0.7595244011933594, 1.4012836294584774, 1.2973647497880438, 3.160814970227172, 0.8102549162837134, 0.8121788322051527, 0.8516776630657914, 0.8383707809531974, 0.8102404411547659, 0.8100740698918747, 0.8033231746499547, 1.0611800189878444, 1.3544424468921854, 0.439264965439074, 1.0146718265969283, 0.7322427710176461, 0.647310484995828, 0.43360263656423403, 0.9192683338083002, 0.4257843969500259, 0.7612656195619752, 0.4190791363035416, 0.42225784835994673, 0.4093270709821332, 0.4415488797038079, 0.3722078863780009, 0.587950716986961, 0.3558964837999526, 0.4035106959137062, 0.3861154597333905, 0.6070735332623988, 0.42267337806769595, 0.3764139504472229, 0.35131738896242876, 0.34989263401642823, 0.3464532655120627, 0.4336680860558663, 0.39097870794437484, 0.38657061976372803, 0.38960698332912014, 0.3239743911273836, 0.9103477153489298, 0.6585047488814016, 0.5510741278564859, 0.6288112703030722, 0.6104791887441895, 0.5720694068373396, 1.1214907288273661, 0.5911917486496493, 0.5862444961767262, 0.6955387900588267, 0.5182390055839547, 0.5462278831381061, 0.5732132990995454, 0.4616578780171131, 0.47514848586038505, 0.4563102430412181, 0.4260889942704325], \"Total\": [308.0, 59.0, 13.0, 43.0, 22.0, 56.0, 34.0, 24.0, 9.0, 121.0, 14.0, 152.0, 21.0, 57.0, 40.0, 86.0, 7.0, 11.0, 64.0, 22.0, 45.0, 23.0, 7.0, 132.0, 21.0, 30.0, 12.0, 24.0, 54.0, 6.0, 54.48644451546095, 56.52822892053674, 20.332075070278286, 16.352839651805823, 17.074461053448044, 12.111566143701916, 17.11675142995663, 10.730605835254243, 14.802196799677917, 14.248947643111709, 13.583749213742625, 15.577133569373236, 21.64974447017822, 8.71835387480157, 9.386484043457315, 9.397784613378501, 9.370770842354574, 10.010691378459725, 9.331485994085526, 12.889254732960595, 37.175989875608074, 8.64814446609168, 12.148027802006371, 14.25050844430388, 10.477337206102858, 29.484297353065678, 7.223819767679555, 21.180984703367066, 17.77885467058497, 7.342262039737729, 61.102274992613204, 28.98972116739282, 308.3171973056532, 57.02097600934052, 89.02921723805215, 28.106011340632257, 111.46083655633417, 42.65727868939627, 19.765158626019836, 91.3917952718354, 85.37443425957433, 132.2475105447271, 46.04725973710619, 152.74458183493286, 89.65654556245588, 58.2492273942403, 86.53839277912812, 121.52151746635441, 56.37019871142754, 37.183717978814755, 22.669518540925598, 57.18817521570681, 24.420954400183795, 64.14147312637898, 43.6904771185714, 31.27654377836792, 28.74532974536088, 37.676055813337726, 59.45271380293053, 41.984411916421045, 6.784400803779897, 5.4263569112242855, 5.4099941466457695, 4.20760549280698, 4.155209743763703, 13.77111084137943, 3.4938704556300695, 8.022012974636004, 3.5055260059853244, 4.502706350548675, 4.773288179498248, 6.013328947046447, 5.475751759724759, 2.9317012570509404, 4.861757285740316, 5.504152346504108, 6.119597796408092, 4.831814197417587, 4.21427641352424, 3.576154078521428, 4.841879032404455, 8.166252168946201, 4.199578165816941, 11.383282101499669, 3.253330641097423, 4.2325340655759485, 6.181996069730344, 13.330406385531044, 4.290260054349078, 9.449753417859968, 9.57424075893725, 40.308117129240166, 8.09099455262049, 6.888383328960506, 45.09600317825527, 32.11899036348552, 33.53460515133688, 121.52151746635441, 152.74458183493286, 16.29886229404689, 33.298911109742335, 30.56500072255679, 31.844612637704685, 89.65654556245588, 37.676055813337726, 20.413991059651327, 132.2475105447271, 15.743091635226547, 36.40776697198394, 23.267486229712063, 308.3171973056532, 16.939418814386347, 64.14147312637898, 91.3917952718354, 41.984411916421045, 85.37443425957433, 89.02921723805215, 86.53839277912812, 58.2492273942403, 43.6904771185714, 111.46083655633417, 56.37019871142754, 30.931751174649058, 59.45271380293053, 26.81792564617547, 22.923712088792797, 5.150435400757045, 5.17245539557636, 5.147120115232591, 5.1891297703845245, 10.005732487155125, 3.8147349877549, 3.77022307908035, 3.8329132663839625, 3.8037026550693036, 6.62640113653518, 7.622465484121411, 3.104422523521268, 3.0991982607948825, 3.072142825614446, 3.1290209340987665, 3.124858356640952, 3.1201514152444116, 6.9134863079644155, 4.505918402105679, 7.263656735258715, 10.667034071576225, 4.426725681882137, 3.800611339368445, 21.023727695638556, 3.062622349659505, 3.058909048621317, 11.932452590971547, 3.061196685723588, 8.656874645147662, 3.6861277440999043, 34.58270348748508, 24.144823374580245, 11.534919998908236, 59.45271380293053, 21.21892947110888, 11.644592467783506, 30.56500072255679, 13.65018573780648, 18.870885936381647, 64.14147312637898, 86.53839277912812, 57.18817521570681, 308.3171973056532, 41.984411916421045, 132.2475105447271, 12.853888415061055, 28.837269513549575, 30.931751174649058, 111.46083655633417, 121.52151746635441, 31.27654377836792, 20.118042209159672, 152.74458183493286, 13.32568033499917, 9.846741639777608, 7.823020755184139, 7.120136180874133, 6.416479479342371, 5.8792287409192365, 3.7046622935874893, 3.0119585739510413, 3.0300073320917984, 3.0534144875470663, 5.300773083712557, 2.3333763007745243, 2.353166593669026, 3.0238497080486666, 3.148194363278937, 8.591945734506497, 7.122994226798193, 3.5984618613870385, 3.8036769668763335, 3.757637687720938, 2.3085412279895228, 3.8119375572187777, 2.7781355753743724, 2.7544123867202077, 6.9134863079644155, 8.166252168946201, 5.102183251722152, 12.19070443761523, 14.899337923779195, 5.661236747285787, 5.846887302377966, 24.144823374580245, 22.923712088792797, 308.3171973056532, 10.769149731963914, 12.01184970034468, 56.52822892053674, 57.18817521570681, 24.420954400183795, 59.45271380293053, 42.65727868939627, 4.104505323103451, 5.775439184653822, 2.3085412279895228, 5.605176174611941, 4.300751757065647, 3.884905721905805, 2.6615079288745855, 5.702254676397474, 2.684651088392674, 4.831814197417587, 2.7311309965219706, 2.7703893320540325, 2.697981365486602, 3.253330641097423, 2.8310492561088263, 4.638041776077659, 2.8541755236313135, 3.4932015865317227, 3.3795784636260833, 5.314116306290715, 3.8396537521398497, 3.48061939469498, 3.4520807904128716, 3.536626984318741, 3.539726344242176, 4.502706350548675, 4.177169059717742, 4.178200965027201, 4.227391083214128, 3.5699578553616895, 11.832554699279674, 8.748326440995667, 6.858171730160801, 9.578180695140674, 10.885980337428558, 9.494019914614043, 43.6904771185714, 10.948685542625734, 12.31055964973279, 23.001475764895794, 9.608057691751856, 16.397568520904425, 22.669518540925598, 9.070186584052188, 18.04322883776524, 21.023727695638556, 7.612347714087829], \"Category\": [\"Default\", \"Default\", \"Default\", \"Default\", \"Default\", \"Default\", \"Default\", \"Default\", \"Default\", \"Default\", \"Default\", \"Default\", \"Default\", \"Default\", \"Default\", \"Default\", \"Default\", \"Default\", \"Default\", \"Default\", \"Default\", \"Default\", \"Default\", \"Default\", \"Default\", \"Default\", \"Default\", \"Default\", \"Default\", \"Default\", \"Topic1\", \"Topic1\", \"Topic1\", \"Topic1\", \"Topic1\", \"Topic1\", \"Topic1\", \"Topic1\", \"Topic1\", \"Topic1\", \"Topic1\", \"Topic1\", \"Topic1\", \"Topic1\", \"Topic1\", \"Topic1\", \"Topic1\", \"Topic1\", \"Topic1\", \"Topic1\", \"Topic1\", \"Topic1\", \"Topic1\", \"Topic1\", \"Topic1\", \"Topic1\", \"Topic1\", \"Topic1\", \"Topic1\", \"Topic1\", \"Topic1\", \"Topic1\", \"Topic1\", \"Topic1\", \"Topic1\", \"Topic1\", \"Topic1\", \"Topic1\", \"Topic1\", \"Topic1\", \"Topic1\", \"Topic1\", \"Topic1\", \"Topic1\", \"Topic1\", \"Topic1\", \"Topic1\", \"Topic1\", \"Topic1\", \"Topic1\", \"Topic1\", \"Topic1\", \"Topic1\", \"Topic1\", \"Topic1\", \"Topic1\", \"Topic1\", \"Topic1\", \"Topic1\", \"Topic1\", \"Topic2\", \"Topic2\", \"Topic2\", \"Topic2\", \"Topic2\", \"Topic2\", \"Topic2\", \"Topic2\", \"Topic2\", \"Topic2\", \"Topic2\", \"Topic2\", \"Topic2\", \"Topic2\", \"Topic2\", \"Topic2\", \"Topic2\", \"Topic2\", \"Topic2\", \"Topic2\", \"Topic2\", \"Topic2\", \"Topic2\", \"Topic2\", \"Topic2\", \"Topic2\", \"Topic2\", \"Topic2\", \"Topic2\", \"Topic2\", \"Topic2\", \"Topic2\", \"Topic2\", \"Topic2\", \"Topic2\", \"Topic2\", \"Topic2\", \"Topic2\", \"Topic2\", \"Topic2\", \"Topic2\", \"Topic2\", \"Topic2\", \"Topic2\", \"Topic2\", \"Topic2\", \"Topic2\", \"Topic2\", \"Topic2\", \"Topic2\", \"Topic2\", \"Topic2\", \"Topic2\", \"Topic2\", \"Topic2\", \"Topic2\", \"Topic2\", \"Topic2\", \"Topic2\", \"Topic2\", \"Topic2\", \"Topic2\", \"Topic2\", \"Topic2\", \"Topic2\", \"Topic3\", \"Topic3\", \"Topic3\", \"Topic3\", \"Topic3\", \"Topic3\", \"Topic3\", \"Topic3\", \"Topic3\", \"Topic3\", \"Topic3\", \"Topic3\", \"Topic3\", \"Topic3\", \"Topic3\", \"Topic3\", \"Topic3\", \"Topic3\", \"Topic3\", \"Topic3\", \"Topic3\", \"Topic3\", \"Topic3\", \"Topic3\", \"Topic3\", \"Topic3\", \"Topic3\", \"Topic3\", \"Topic3\", \"Topic3\", \"Topic3\", \"Topic3\", \"Topic3\", \"Topic3\", \"Topic3\", \"Topic3\", \"Topic3\", \"Topic3\", \"Topic3\", \"Topic3\", \"Topic3\", \"Topic3\", \"Topic3\", \"Topic3\", \"Topic3\", \"Topic3\", \"Topic3\", \"Topic3\", \"Topic3\", \"Topic3\", \"Topic3\", \"Topic3\", \"Topic3\", \"Topic3\", \"Topic4\", \"Topic4\", \"Topic4\", \"Topic4\", \"Topic4\", \"Topic4\", \"Topic4\", \"Topic4\", \"Topic4\", \"Topic4\", \"Topic4\", \"Topic4\", \"Topic4\", \"Topic4\", \"Topic4\", \"Topic4\", \"Topic4\", \"Topic4\", \"Topic4\", \"Topic4\", \"Topic4\", \"Topic4\", \"Topic4\", \"Topic4\", \"Topic4\", \"Topic4\", \"Topic4\", \"Topic4\", \"Topic4\", \"Topic4\", \"Topic4\", \"Topic4\", \"Topic4\", \"Topic4\", \"Topic4\", \"Topic4\", \"Topic4\", \"Topic4\", \"Topic4\", \"Topic4\", \"Topic4\", \"Topic5\", \"Topic5\", \"Topic5\", \"Topic5\", \"Topic5\", \"Topic5\", \"Topic5\", \"Topic5\", \"Topic5\", \"Topic5\", \"Topic5\", \"Topic5\", \"Topic5\", \"Topic5\", \"Topic5\", \"Topic5\", \"Topic5\", \"Topic5\", \"Topic5\", \"Topic5\", \"Topic5\", \"Topic5\", \"Topic5\", \"Topic5\", \"Topic5\", \"Topic5\", \"Topic5\", \"Topic5\", \"Topic5\", \"Topic5\", \"Topic5\", \"Topic5\", \"Topic5\", \"Topic5\", \"Topic5\", \"Topic5\", \"Topic5\", \"Topic5\", \"Topic5\", \"Topic5\", \"Topic5\", \"Topic5\", \"Topic5\", \"Topic5\", \"Topic5\", \"Topic5\", \"Topic5\"], \"logprob\": [30.0, 29.0, 28.0, 27.0, 26.0, 25.0, 24.0, 23.0, 22.0, 21.0, 20.0, 19.0, 18.0, 17.0, 16.0, 15.0, 14.0, 13.0, 12.0, 11.0, 10.0, 9.0, 8.0, 7.0, 6.0, 5.0, 4.0, 3.0, 2.0, 1.0, -4.6731, -4.6377, -5.6715, -5.8963, -5.8539, -6.2085, -5.8649, -6.3336, -6.0143, -6.0566, -6.1049, -5.9692, -5.6469, -6.5602, -6.487, -6.4862, -6.4891, -6.424, -6.4966, -6.1751, -5.1191, -6.5783, -6.2396, -6.0803, -6.3889, -5.3581, -6.766, -5.6918, -5.8693, -6.7538, -4.6481, -5.3884, -3.072, -4.7376, -4.3129, -5.4306, -4.123, -5.0409, -5.7737, -4.3341, -4.4044, -4.042, -5.0055, -3.9272, -4.4087, -4.8184, -4.5228, -4.2382, -4.8943, -5.2557, -5.6633, -4.9273, -5.6077, -4.9269, -5.2495, -5.4709, -5.538, -5.4266, -5.2737, -5.4531, -5.6009, -5.8492, -5.8546, -6.1247, -6.1601, -4.9635, -6.3525, -5.5269, -6.3558, -6.1382, -6.0871, -5.8756, -5.9786, -6.6074, -6.1047, -5.9985, -5.9034, -6.1452, -6.2972, -6.471, -6.1885, -5.6747, -6.345, -5.3509, -6.6067, -6.3576, -5.9805, -5.2182, -6.3526, -5.5889, -5.5889, -4.2546, -5.7602, -5.9288, -4.3756, -4.7239, -4.7322, -3.8579, -3.7769, -5.3496, -4.8921, -4.9677, -4.9849, -4.3911, -4.9056, -5.3016, -4.2943, -5.4603, -5.0335, -5.2694, -4.0914, -5.4279, -4.8423, -4.7084, -5.06, -4.8049, -4.8023, -4.8178, -4.9824, -5.0784, -4.8144, -5.0438, -5.2333, -5.1532, -5.2946, -3.8718, -5.4072, -5.4063, -5.4139, -5.4112, -4.7922, -5.7637, -5.777, -5.7767, -5.787, -5.235, -5.1179, -6.0323, -6.0346, -6.0514, -6.0356, -6.0554, -6.0633, -5.2778, -5.7631, -5.3175, -5.0031, -5.9543, -6.1112, -4.4218, -6.3685, -6.3713, -5.0235, -6.3898, -5.351, -6.206, -4.1099, -4.4544, -5.1589, -3.8603, -4.7396, -5.2709, -4.7078, -5.2251, -5.0912, -4.5144, -4.3651, -4.6437, -4.0025, -4.8663, -4.466, -5.3312, -5.1077, -5.1143, -4.9149, -4.9822, -5.1781, -5.2539, -5.1655, -2.8146, -3.1294, -3.3914, -3.4911, -3.6022, -3.7588, -4.2757, -4.5471, -4.5491, -4.5577, -4.1204, -5.4202, -5.4449, -5.4272, -5.5537, -4.6089, -4.8507, -5.5753, -5.528, -5.5584, -6.0464, -5.5451, -6.0471, -6.0665, -5.151, -4.995, -5.5285, -4.7266, -4.529, -5.541, -5.5704, -4.958, -5.035, -4.1445, -5.5058, -5.5034, -5.4559, -5.4717, -5.5058, -5.506, -5.5144, -4.8484, -4.6044, -5.7305, -4.8932, -5.2194, -5.3427, -5.7434, -4.992, -5.7616, -5.1806, -5.7775, -5.7699, -5.801, -5.7253, -5.8961, -5.4389, -5.9409, -5.8154, -5.8594, -5.4069, -5.769, -5.8849, -5.9539, -5.9579, -5.9678, -5.7433, -5.8469, -5.8582, -5.8504, -6.0349, -5.0017, -5.3256, -5.5037, -5.3717, -5.4013, -5.4663, -4.7931, -5.4334, -5.4418, -5.2709, -5.5651, -5.5125, -5.4643, -5.6807, -5.6519, -5.6924, -5.7609], \"loglift\": [30.0, 29.0, 28.0, 27.0, 26.0, 25.0, 24.0, 23.0, 22.0, 21.0, 20.0, 19.0, 18.0, 17.0, 16.0, 15.0, 14.0, 13.0, 12.0, 11.0, 10.0, 9.0, 8.0, 7.0, 6.0, 5.0, 4.0, 3.0, 2.0, 1.0, 0.3775, 0.3761, 0.3649, 0.3579, 0.357, 0.3459, 0.3435, 0.3419, 0.3394, 0.3352, 0.3347, 0.3336, 0.3266, 0.3229, 0.3223, 0.3219, 0.3219, 0.3208, 0.3185, 0.3171, 0.3138, 0.3129, 0.3118, 0.3115, 0.3104, 0.3066, 0.3052, 0.3036, 0.3012, 0.3011, 0.2879, 0.2932, 0.2454, 0.2676, 0.2467, 0.2819, 0.2119, 0.2545, 0.2909, 0.1993, 0.197, 0.1218, 0.2133, 0.0925, 0.1438, 0.1654, 0.0651, 0.0102, 0.1223, 0.177, 0.2642, 0.0749, 0.2454, -0.0394, 0.0219, 0.1347, 0.152, -0.0071, -0.3104, -0.1418, 1.533, 1.5081, 1.5057, 1.4869, 1.464, 1.4625, 1.445, 1.4394, 1.4384, 1.4057, 1.3984, 1.379, 1.3696, 1.3656, 1.3624, 1.3445, 1.3336, 1.3281, 1.3129, 1.3032, 1.2827, 1.2738, 1.2685, 1.2654, 1.2621, 1.2482, 1.2463, 1.2403, 1.2396, 1.2136, 1.2005, 1.0974, 1.1976, 1.1899, 0.8641, 0.8552, 0.8038, 0.3906, 0.2429, 0.9078, 0.6509, 0.661, 0.6028, 0.1614, 0.5139, 0.7307, -0.1304, 0.8318, 0.4203, 0.6321, -0.774, 0.791, 0.0451, -0.1751, 0.2513, -0.2034, -0.2427, -0.2298, 0.0014, 0.193, -0.4796, -0.0272, 0.3834, -0.1899, 0.4648, 2.0445, 2.0023, 1.9988, 1.9962, 1.9908, 1.9531, 1.946, 1.9444, 1.9282, 1.9255, 1.9225, 1.8995, 1.8834, 1.8828, 1.8748, 1.8722, 1.8537, 1.8474, 1.8373, 1.7801, 1.7482, 1.6783, 1.6066, 1.6021, 1.581, 1.5608, 1.5592, 1.5458, 1.5399, 1.5392, 1.5379, 1.3953, 1.4101, 1.4443, 1.1031, 1.254, 1.3228, 0.9208, 1.2097, 1.0198, 0.373, 0.2228, 0.3585, -0.6851, 0.4449, -0.3021, 1.1637, 0.5792, 0.5025, -0.58, -0.7338, 0.4276, 0.793, -1.1457, 3.6442, 3.632, 3.6, 3.5945, 3.5875, 3.5183, 3.4632, 3.3988, 3.3908, 3.3745, 3.2602, 2.7811, 2.7478, 2.5148, 2.348, 2.2888, 2.2345, 2.1927, 2.1845, 2.1664, 2.1655, 2.1653, 1.9796, 1.9688, 1.964, 1.9535, 1.8904, 1.8212, 1.8182, 1.7738, 1.7122, 0.9065, 0.8813, -0.8271, 1.1661, 1.0592, -0.4421, -0.4695, 0.3473, -0.5427, -0.219, 2.788, 2.6905, 2.4815, 2.4316, 2.3703, 2.3487, 2.3262, 2.3157, 2.2993, 2.2927, 2.2663, 2.2596, 2.255, 2.1436, 2.1118, 2.0753, 2.0588, 1.9824, 1.9714, 1.9713, 1.9342, 1.9164, 1.8557, 1.8274, 1.8167, 1.8006, 1.772, 1.7604, 1.7565, 1.7411, 1.5759, 1.5541, 1.6194, 1.4173, 1.2597, 1.3316, 0.4783, 1.2219, 1.0962, 0.6421, 1.2208, 0.7389, 0.4632, 1.1628, 0.5038, 0.3105, 1.2578]}, \"token.table\": {\"Topic\": [4, 1, 1, 1, 3, 1, 2, 2, 3, 1, 3, 1, 2, 3, 1, 2, 3, 2, 3, 1, 3, 2, 3, 1, 2, 3, 1, 2, 3, 5, 1, 2, 3, 2, 1, 2, 3, 1, 2, 1, 2, 2, 4, 1, 2, 3, 4, 1, 2, 3, 1, 1, 2, 3, 1, 2, 3, 4, 1, 1, 1, 2, 1, 3, 1, 2, 4, 1, 2, 3, 4, 1, 3, 1, 2, 2, 1, 2, 1, 3, 5, 1, 2, 3, 1, 5, 3, 3, 1, 2, 3, 1, 2, 1, 3, 1, 2, 1, 1, 2, 3, 1, 3, 1, 3, 1, 2, 1, 4, 4, 1, 3, 1, 2, 3, 1, 3, 1, 2, 5, 3, 4, 1, 1, 2, 2, 3, 1, 1, 2, 3, 1, 4, 3, 1, 2, 3, 4, 2, 3, 1, 2, 3, 1, 4, 1, 2, 3, 1, 2, 1, 3, 1, 3, 1, 4, 3, 1, 2, 4, 1, 2, 3, 3, 2, 1, 2, 3, 1, 2, 3, 1, 1, 4, 1, 2, 1, 1, 2, 3, 2, 3, 1, 2, 3, 1, 2, 3, 1, 1, 2, 5, 3, 3, 1, 5, 1, 2, 3, 1, 5, 1, 2, 4, 1, 2, 1, 2, 3, 4, 1, 2, 3, 1, 3, 4, 2, 3, 4, 1, 4, 1, 4, 4, 1, 2, 1, 4, 2, 5, 2, 3, 1, 1, 2, 1, 2, 3, 1, 2, 3, 1, 3, 1, 2, 3, 1, 2, 1, 1, 2, 3, 1, 2, 3, 4, 1, 2, 3, 5, 2, 3, 4, 1, 1, 3, 5, 1, 3, 1, 2, 3, 1, 1, 2, 1, 2, 3, 1, 3, 4, 1, 2, 3, 4, 1, 2, 3, 1, 2, 3, 1, 2, 3, 1, 3, 1, 2, 3, 1, 2, 5, 2, 3, 3, 1, 2, 3, 5, 1, 3, 1, 2, 3, 4, 1, 2, 5, 1, 3, 1, 3, 5, 1, 3, 4, 2, 1, 2, 3, 1, 2, 3, 1, 2, 1, 2, 3, 1, 1, 2, 1, 4, 1, 2, 1, 2, 3, 5, 1, 2, 1, 2, 1, 4, 1, 3, 5, 1, 2, 5, 1, 2, 3, 1, 2, 3, 1, 2, 3, 4, 1, 2, 1, 2, 3, 4, 1, 2, 3, 5, 1, 2, 1, 3, 4, 1, 3, 1, 4, 1, 3, 2, 1, 2, 2, 1, 3, 1, 2, 3, 1, 2, 4, 1, 1, 2, 3, 1, 2, 1, 2, 3, 4, 1, 2, 4, 1, 2, 3, 1, 2, 3, 4, 1, 2, 3, 1, 2, 1, 3, 1, 3, 2, 3, 1, 2, 5, 1, 3, 5, 1, 2, 1, 2, 3, 1, 2, 3, 4, 3, 1, 2, 3, 3, 1, 3, 4, 2, 1, 2, 3, 5, 1, 2, 5, 1, 2, 3, 4, 1, 1, 1, 2, 1, 2, 3, 4, 1, 2, 3, 4, 3, 4], \"Freq\": [0.6600644093554976, 0.9570259134972804, 0.726107684398516, 0.7881931074819495, 0.7887051833564892, 0.9176044141913292, 0.682197749579656, 0.3661486766008206, 0.3661486766008206, 0.22193033933607986, 0.6657910180082396, 0.18749354193301718, 0.18749354193301718, 0.6562273967655602, 0.8593328881633556, 0.10522443528530885, 0.01753740588088481, 0.85579168286808, 0.640029009874831, 0.26311556502543404, 0.5262311300508681, 0.32651756757119516, 0.6530351351423903, 0.13119114833424045, 0.13119114833424045, 0.7871468900054428, 0.34629401090644146, 0.17314700545322073, 0.17314700545322073, 0.17314700545322073, 0.7282242859412494, 0.06935469389916661, 0.20806408169749982, 0.7129946011166172, 0.49706626002837573, 0.24853313001418786, 0.24853313001418786, 0.6711928520305596, 0.2983079342358042, 0.3133407729693443, 0.6266815459386886, 0.5557930240864339, 0.27789651204321697, 0.7673482137306789, 0.03197284223877828, 0.15986421119389144, 0.03197284223877828, 0.29034388832449176, 0.5806877766489835, 0.14517194416224588, 0.8403460549245211, 0.8097006933707198, 0.15318661766473077, 0.03282570378529945, 0.8439356917755952, 0.09377063241951059, 0.023442658104877646, 0.023442658104877646, 0.9576725122203563, 0.8573125443332984, 0.5604161213131812, 0.4358792054658076, 0.3609600962686989, 0.3609600962686989, 0.859917252039992, 0.0818968811466659, 0.04094844057333295, 0.33295712831422253, 0.04756530404488893, 0.5707836485386671, 0.04756530404488893, 0.9054967752200268, 0.08231788865636608, 0.23728865927988285, 0.7118659778396486, 0.8586466035584577, 0.9237984322424365, 0.04618992161212183, 0.5832458208080208, 0.1458114552020052, 0.1458114552020052, 0.12465699110208366, 0.7479419466125019, 0.6391775709151809, 0.5148130078736806, 0.2574065039368403, 0.7733271133514115, 0.6409945332231043, 0.3759104606932911, 0.14458094642049657, 0.46265902854558905, 0.8424200765402675, 0.14601947993364636, 0.9347568120898126, 0.05842230075561329, 0.6446764318203543, 0.34382743030418894, 0.5655105864621625, 0.8252391177444708, 0.13030091332807434, 0.043433637776024776, 0.3465453899903189, 0.5775756499838648, 0.7180123754484053, 0.23933745848280177, 0.20568694429337944, 0.8227477771735178, 0.7717592063991132, 0.11025131519987331, 0.8947950183260422, 0.8987532871597059, 0.06419666336855043, 0.6317333336509948, 0.27466666680478036, 0.08240000004143411, 0.47310503349015437, 0.23655251674507718, 0.7928004681564198, 0.18295395418994304, 0.060984651396647674, 0.18865172762679736, 0.565955182880392, 0.8305855064165489, 0.8867592460231576, 0.05542245287644735, 0.7304933049413952, 0.1826233262353488, 0.7007277525298927, 0.8999454856038575, 0.05624659285024109, 0.05624659285024109, 0.912348078300682, 0.8426805116617004, 0.7864242233418162, 0.16761013586706058, 0.25141520380059085, 0.5028304076011817, 0.8097904106381815, 0.6662659668300235, 0.645328188680333, 0.5172678362004033, 0.25863391810020164, 0.19397543857515123, 0.6352847916025557, 0.31764239580127784, 0.16176005107742158, 0.6470402043096863, 0.16176005107742158, 0.2094991884829205, 0.837996753931682, 0.43346637865483617, 0.5201596543858034, 0.5445822908963498, 0.38898735064024986, 0.42495928791884363, 0.42495928791884363, 0.7766333695617371, 0.7492601243371989, 0.08325112492635543, 0.08325112492635543, 0.35988875314771596, 0.35988875314771596, 0.29445443439358576, 0.7826944654112282, 0.4331739835856804, 0.8837641480047704, 0.08183001370414542, 0.032732005481658166, 0.745074542224128, 0.17739870052955425, 0.0709594802118217, 0.9588254727043715, 0.7065593930368224, 0.1766398482592056, 0.16340943200335023, 0.6536377280134009, 0.9250539270437751, 0.8082044771179492, 0.15227040873236725, 0.03513932509208475, 0.326669633697067, 0.653339267394134, 0.4446394750276932, 0.4446394750276932, 0.12703985000791235, 0.666548621913205, 0.2715568459646391, 0.057602967325832526, 0.7199072708071443, 0.2325174891475923, 0.4650349782951846, 0.2325174891475923, 0.6442422011973584, 0.7708421598605718, 0.7136260976269723, 0.17840652440674307, 0.6635514111100168, 0.3185046773328081, 0.026542056444400674, 0.7014769116778714, 0.17536922791946785, 0.7382878391155965, 0.06711707628323604, 0.1342341525664721, 0.8600993456040548, 0.10118815830635938, 0.8465307880353334, 0.08432873750543551, 0.0583814336576092, 0.009730238942934866, 0.7653417161982813, 0.1043647794815838, 0.1043647794815838, 0.9552749313251837, 0.01769027650602192, 0.01769027650602192, 0.32691393699682264, 0.6538278739936453, 0.664019756877476, 0.5246675660288668, 0.2623337830144334, 0.8357205744188977, 0.09285784160209974, 0.779243511351875, 0.9122481524647827, 0.07017293480498328, 0.42856353673775943, 0.42856353673775943, 0.6208848017383163, 0.20696160057943874, 0.7087952402792463, 0.23626508009308214, 0.9172718817886513, 0.20653138860088469, 0.619594165802654, 0.5716407329410053, 0.23818363872541884, 0.1667285471077932, 0.8894894297526322, 0.07115915438021057, 0.03557957719010529, 0.89703100521949, 0.09442431633889369, 0.6392120106006458, 0.18708644212701828, 0.1714959052831001, 0.37078260039470273, 0.6179710006578379, 0.9082227574441364, 0.4294778294161506, 0.4294778294161506, 0.06135397563087866, 0.4655522885736372, 0.2327761442868186, 0.1163880721434093, 0.2327761442868186, 0.6244758506342823, 0.10407930843904706, 0.20815861687809412, 0.10407930843904706, 0.6122759739178144, 0.1224551947835629, 0.1224551947835629, 0.7064518555035411, 0.48726943749893425, 0.24363471874946713, 0.24363471874946713, 0.09994270797103076, 0.7995416637682461, 0.1756962519391937, 0.614936881787178, 0.08784812596959685, 0.937072036998142, 0.9458055577469844, 0.06755753983907031, 0.4722712206162435, 0.41323731803921304, 0.11806780515406087, 0.9319138316632676, 0.7232241125927945, 0.14464482251855892, 0.48778261150747565, 0.15138081046783727, 0.3364018010396384, 0.016820090051981918, 0.7584499221267715, 0.21191983118248028, 0.011153675325393698, 0.9145687879129775, 0.05379816399488103, 0.026899081997440514, 0.5405582164737424, 0.3603721443158282, 0.09009303607895705, 0.28730518525644017, 0.28730518525644017, 0.48986011460371437, 0.3918880916829715, 0.14695803438111432, 0.752712166887447, 0.18817804172186176, 0.18817804172186176, 0.2259006028073608, 0.6777018084220824, 0.7957088843485022, 0.7306813195843622, 0.09133516494804528, 0.09133516494804528, 0.09133516494804528, 0.27534340799610546, 0.6883585199902637, 0.4555841982915824, 0.04141674529923477, 0.4555841982915824, 0.04141674529923477, 0.8822419392760248, 0.08822419392760249, 0.044112096963801244, 0.28627033832103144, 0.5725406766420629, 0.7308277242620126, 0.10440396060885894, 0.10440396060885894, 0.4211711963366997, 0.2807807975577998, 0.2807807975577998, 0.6147546070894762, 0.4656731976222216, 0.44349828344973485, 0.08869965668994696, 0.17175354187218633, 0.42938385468046586, 0.42938385468046586, 0.30006587078557784, 0.6751482092675501, 0.7799112508470135, 0.18825443985962395, 0.026893491408517708, 0.8589968827917139, 0.3706474821480623, 0.3706474821480623, 0.3307042665970705, 0.3307042665970705, 0.37248788281039136, 0.37248788281039136, 0.6866484867762631, 0.22888282892542103, 0.0686648486776263, 0.022888282892542102, 0.9157416802809659, 0.06783271705784932, 0.5793607164566964, 0.2896803582283482, 0.5258070065930035, 0.26290350329650175, 0.6468247042261588, 0.21560823474205293, 0.21560823474205293, 0.7606134286915985, 0.08451260318795539, 0.08451260318795539, 0.7267033544925007, 0.23568757443000024, 0.03928126240500004, 0.7048894489604199, 0.15022234158172884, 0.13866677684467277, 0.5665789089883633, 0.41747919609668876, 0.10155643730514141, 0.9140079357462727, 0.1662972388183034, 0.6651889552732136, 0.7169314258647528, 0.10491679402898821, 0.1573751910434823, 0.017486132338164703, 0.6858454631829132, 0.1143075771971522, 0.1143075771971522, 0.1143075771971522, 0.2330861037167876, 0.6992583111503627, 0.04362295234413153, 0.8724590468826305, 0.04362295234413153, 0.15091147960940998, 0.7545573980470499, 0.532249292297531, 0.2661246461487655, 0.5650154293009853, 0.2825077146504926, 0.9242154177005961, 0.23811915399971384, 0.7143574619991415, 0.8843817123329637, 0.3757268536197254, 0.3757268536197254, 0.6280497184104411, 0.3454273451257426, 0.031402485920522055, 0.5130935222199137, 0.34206234814660913, 0.17103117407330456, 0.9344840570539928, 0.1452315665044537, 0.7987736157744953, 0.07261578325222685, 0.3174686012790578, 0.6349372025581156, 0.7485963220949815, 0.1587931592322688, 0.08317736912166461, 0.00756157901106042, 0.5879835850637868, 0.1959945283545956, 0.1959945283545956, 0.8164302620679423, 0.11663289458113463, 0.06280232785138018, 0.7725424355491042, 0.1888437064675588, 0.017167609678868982, 0.017167609678868982, 0.322515684826409, 0.5457957743216153, 0.09923559533120277, 0.1816810177202194, 0.7267240708808776, 0.5208803004399536, 0.2604401502199768, 0.4787931662347282, 0.2393965831173641, 0.5592600195869933, 0.27963000979349667, 0.8267514473690427, 0.09186127192989363, 0.09186127192989363, 0.7310796792406876, 0.16246215094237504, 0.08123107547118752, 0.9727190032552195, 0.01835318874066452, 0.9310080566034141, 0.2712873968083775, 0.542574793616755, 0.8990388035900839, 0.7219852149467338, 0.07504307283835668, 0.9005168740602802, 0.6510113993804922, 0.582908509811552, 0.05299168271014109, 0.3179500962608465, 0.7771336029563876, 0.5860726112936806, 0.3662953820585504, 0.6550044247699507, 0.9214285167379284, 0.6956075411656304, 0.2173773566142595, 0.0434754713228519, 0.0434754713228519, 0.7373062267570111, 0.1053294609652873, 0.1053294609652873, 0.896869612848998, 0.034494985109576846, 0.034494985109576846, 0.034494985109576846, 0.9604332611914121, 0.9533846602197876, 0.29589489066842395, 0.29589489066842395, 0.32811885650001765, 0.32811885650001765, 0.08202971412500441, 0.16405942825000883, 0.42414957890567273, 0.14138319296855759, 0.42414957890567273, 0.04712773098951919, 0.17009033736687829, 0.8504516868343914], \"Term\": [\"aber\", \"access\", \"accommodate\", \"actually\", \"afford\", \"afternoon\", \"allergies\", \"answer\", \"answer\", \"apple\", \"apple\", \"appointed\", \"appointed\", \"appointed\", \"area\", \"area\", \"area\", \"ate\", \"attached\", \"attentive\", \"attentive\", \"ave\", \"ave\", \"avenue\", \"avenue\", \"avenue\", \"average\", \"average\", \"average\", \"average\", \"bar\", \"bar\", \"bar\", \"bath\", \"beautiful\", \"beautiful\", \"beautiful\", \"bed\", \"bed\", \"bedroom\", \"bedroom\", \"bell\", \"bell\", \"best\", \"best\", \"best\", \"best\", \"blocks\", \"blocks\", \"blocks\", \"bother\", \"breakfast\", \"breakfast\", \"breakfast\", \"business\", \"business\", \"business\", \"business\", \"called\", \"car\", \"carlos\", \"carlos\", \"catering\", \"catering\", \"center\", \"center\", \"center\", \"central\", \"central\", \"central\", \"central\", \"cereal\", \"cereal\", \"chairs\", \"chairs\", \"chance\", \"check\", \"check\", \"checkin\", \"checkin\", \"checkin\", \"chocolate\", \"chocolate\", \"chocolates\", \"choose\", \"choose\", \"cipriani\", \"ciprianis\", \"city\", \"city\", \"city\", \"clean\", \"clean\", \"close\", \"close\", \"coffee\", \"coffee\", \"colleagues\", \"comfortable\", \"comfortable\", \"comfortable\", \"corner\", \"corner\", \"corridor\", \"corridor\", \"counter\", \"counter\", \"courtyard\", \"courtyard\", \"das\", \"decided\", \"decided\", \"desk\", \"desk\", \"desk\", \"details\", \"details\", \"didnt\", \"didnt\", \"didnt\", \"die\", \"die\", \"doesnt\", \"dont\", \"dont\", \"doorman\", \"doorman\", \"downside\", \"downtown\", \"downtown\", \"downtown\", \"early\", \"ein\", \"elegance\", \"elevator\", \"elevator\", \"elevator\", \"empfehlen\", \"end\", \"entrance\", \"excellent\", \"excellent\", \"excellent\", \"extended\", \"extended\", \"fabulous\", \"fabulous\", \"fabulous\", \"families\", \"families\", \"feel\", \"feel\", \"felt\", \"felt\", \"festival\", \"festival\", \"fifth\", \"fitness\", \"fitness\", \"fitness\", \"floor\", \"floor\", \"floor\", \"flowers\", \"forgot\", \"free\", \"free\", \"free\", \"friendly\", \"friendly\", \"friendly\", \"fruit\", \"garden\", \"garden\", \"gave\", \"gave\", \"general\", \"good\", \"good\", \"good\", \"gorgeous\", \"gorgeous\", \"got\", \"got\", \"got\", \"great\", \"great\", \"great\", \"group\", \"guys\", \"guys\", \"guys\", \"handwritten\", \"harry\", \"helped\", \"helped\", \"helpful\", \"helpful\", \"helpful\", \"hgi\", \"hgi\", \"hilton\", \"hilton\", \"hilton\", \"hot\", \"hot\", \"hotel\", \"hotel\", \"hotel\", \"hotel\", \"hotels\", \"hotels\", \"hotels\", \"houston\", \"houston\", \"houston\", \"immediately\", \"immediately\", \"immer\", \"international\", \"international\", \"internet\", \"internet\", \"ist\", \"ive\", \"ive\", \"john\", \"john\", \"kitchen\", \"kitchen\", \"kudos\", \"kudos\", \"large\", \"lexington\", \"lexington\", \"like\", \"like\", \"like\", \"little\", \"little\", \"little\", \"located\", \"located\", \"location\", \"location\", \"location\", \"looks\", \"looks\", \"lot\", \"loved\", \"loved\", \"loved\", \"man\", \"man\", \"man\", \"man\", \"manager\", \"manager\", \"manager\", \"manager\", \"manhattan\", \"manhattan\", \"manhattan\", \"maybe\", \"meeting\", \"meeting\", \"meeting\", \"memorial\", \"memorial\", \"midtown\", \"midtown\", \"midtown\", \"morning\", \"music\", \"music\", \"near\", \"near\", \"near\", \"needed\", \"netherland\", \"netherland\", \"new\", \"new\", \"new\", \"new\", \"nice\", \"nice\", \"nice\", \"night\", \"night\", \"night\", \"nyc\", \"nyc\", \"nyc\", \"office\", \"office\", \"old\", \"old\", \"old\", \"ones\", \"ones\", \"ones\", \"operators\", \"operators\", \"option\", \"outstanding\", \"outstanding\", \"outstanding\", \"outstanding\", \"overlooking\", \"overlooking\", \"park\", \"park\", \"park\", \"park\", \"people\", \"people\", \"people\", \"perfectly\", \"perfectly\", \"person\", \"person\", \"person\", \"personal\", \"personal\", \"personal\", \"pick\", \"place\", \"place\", \"place\", \"plaza\", \"plaza\", \"plaza\", \"plenty\", \"plenty\", \"pool\", \"pool\", \"pool\", \"pretty\", \"products\", \"products\", \"quilt\", \"quilt\", \"ran\", \"ran\", \"really\", \"really\", \"really\", \"really\", \"recommend\", \"recommend\", \"response\", \"response\", \"rest\", \"rest\", \"review\", \"review\", \"review\", \"reviews\", \"reviews\", \"reviews\", \"room\", \"room\", \"room\", \"rooms\", \"rooms\", \"rooms\", \"san\", \"san\", \"sehr\", \"sehr\", \"selection\", \"selection\", \"service\", \"service\", \"service\", \"service\", \"set\", \"set\", \"set\", \"set\", \"sheets\", \"sheets\", \"sherry\", \"sherry\", \"sherry\", \"sherrynetherland\", \"sherrynetherland\", \"sightseeing\", \"sightseeing\", \"similar\", \"similar\", \"sink\", \"situated\", \"situated\", \"size\", \"slightly\", \"slightly\", \"small\", \"small\", \"small\", \"sonny\", \"sonny\", \"sonny\", \"sorella\", \"space\", \"space\", \"space\", \"square\", \"square\", \"staff\", \"staff\", \"staff\", \"staff\", \"standard\", \"standard\", \"standard\", \"stay\", \"stay\", \"stay\", \"stayed\", \"stayed\", \"stayed\", \"stayed\", \"suite\", \"suite\", \"suite\", \"superb\", \"superb\", \"thanks\", \"thanks\", \"theres\", \"theres\", \"theyre\", \"theyre\", \"things\", \"things\", \"things\", \"think\", \"think\", \"think\", \"time\", \"time\", \"took\", \"touches\", \"touches\", \"travel\", \"traveling\", \"und\", \"und\", \"upper\", \"view\", \"view\", \"view\", \"views\", \"visit\", \"visit\", \"war\", \"watch\", \"way\", \"way\", \"way\", \"way\", \"week\", \"week\", \"week\", \"weekend\", \"weekend\", \"weekend\", \"weekend\", \"work\", \"worked\", \"works\", \"works\", \"year\", \"year\", \"year\", \"year\", \"york\", \"york\", \"york\", \"york\", \"zimmer\", \"zimmer\"]}, \"R\": 30, \"lambda.step\": 0.01, \"plot.opts\": {\"xlab\": \"PC1\", \"ylab\": \"PC2\"}, \"topic.order\": [1, 2, 3, 4, 5]};\n",
       "\n",
       "function LDAvis_load_lib(url, callback){\n",
       "  var s = document.createElement('script');\n",
       "  s.src = url;\n",
       "  s.async = true;\n",
       "  s.onreadystatechange = s.onload = callback;\n",
       "  s.onerror = function(){console.warn(\"failed to load library \" + url);};\n",
       "  document.getElementsByTagName(\"head\")[0].appendChild(s);\n",
       "}\n",
       "\n",
       "if(typeof(LDAvis) !== \"undefined\"){\n",
       "   // already loaded: just create the visualization\n",
       "   !function(LDAvis){\n",
       "       new LDAvis(\"#\" + \"ldavis_el2352827635511879044052618095\", ldavis_el2352827635511879044052618095_data);\n",
       "   }(LDAvis);\n",
       "}else if(typeof define === \"function\" && define.amd){\n",
       "   // require.js is available: use it to load d3/LDAvis\n",
       "   require.config({paths: {d3: \"https://d3js.org/d3.v5\"}});\n",
       "   require([\"d3\"], function(d3){\n",
       "      window.d3 = d3;\n",
       "      LDAvis_load_lib(\"https://cdn.jsdelivr.net/gh/bmabey/pyLDAvis@3.3.1/pyLDAvis/js/ldavis.v3.0.0.js\", function(){\n",
       "        new LDAvis(\"#\" + \"ldavis_el2352827635511879044052618095\", ldavis_el2352827635511879044052618095_data);\n",
       "      });\n",
       "    });\n",
       "}else{\n",
       "    // require.js not available: dynamically load d3 & LDAvis\n",
       "    LDAvis_load_lib(\"https://d3js.org/d3.v5.js\", function(){\n",
       "         LDAvis_load_lib(\"https://cdn.jsdelivr.net/gh/bmabey/pyLDAvis@3.3.1/pyLDAvis/js/ldavis.v3.0.0.js\", function(){\n",
       "                 new LDAvis(\"#\" + \"ldavis_el2352827635511879044052618095\", ldavis_el2352827635511879044052618095_data);\n",
       "            })\n",
       "         });\n",
       "}\n",
       "</script>"
      ],
      "text/plain": [
       "PreparedData(topic_coordinates=                x           y  topics  cluster       Freq\n",
       "topic                                                    \n",
       "0      150.222153  -72.269554       1        1  66.162831\n",
       "1       51.163364 -159.968018       2        1  18.466871\n",
       "2      -73.144554   21.523815       3        1  11.434787\n",
       "3      -66.410133 -110.606438       4        1   2.344375\n",
       "4       54.417324   12.443444       5        1   1.591136, topic_info=          Term        Freq       Total Category  logprob  loglift\n",
       "338      hotel  308.000000  308.000000  Default  30.0000  30.0000\n",
       "469        new   59.000000   59.000000  Default  29.0000  29.0000\n",
       "753        und   13.000000   13.000000  Default  28.0000  28.0000\n",
       "563     really   43.000000   43.000000  Default  27.0000  27.0000\n",
       "622     sherry   22.000000   22.000000  Default  26.0000  26.0000\n",
       "..         ...         ...         ...      ...      ...      ...\n",
       "507     people    0.573213   22.669519   Topic5  -5.4643   0.4632\n",
       "158  courtyard    0.461658    9.070187   Topic5  -5.6807   1.1628\n",
       "191       dont    0.475148   18.043229   Topic5  -5.6519   0.5038\n",
       "100    central    0.456310   21.023728   Topic5  -5.6924   0.3105\n",
       "6     actually    0.426089    7.612348   Topic5  -5.7609   1.2578\n",
       "\n",
       "[297 rows x 6 columns], token_table=      Topic      Freq         Term\n",
       "term                              \n",
       "0         4  0.660064         aber\n",
       "3         1  0.957026       access\n",
       "4         1  0.726108  accommodate\n",
       "6         1  0.788193     actually\n",
       "11        3  0.788705       afford\n",
       "...     ...       ...          ...\n",
       "823       2  0.141383         york\n",
       "823       3  0.424150         york\n",
       "823       4  0.047128         york\n",
       "826       3  0.170090       zimmer\n",
       "826       4  0.850452       zimmer\n",
       "\n",
       "[484 rows x 3 columns], R=30, lambda_step=0.01, plot_opts={'xlab': 'PC1', 'ylab': 'PC2'}, topic_order=[1, 2, 3, 4, 5])"
      ]
     },
     "execution_count": 18,
     "metadata": {},
     "output_type": "execute_result"
    }
   ],
   "source": [
    "import pyLDAvis\n",
    "import pyLDAvis.sklearn\n",
    "pyLDAvis.enable_notebook()\n",
    "pyLDAvis.sklearn.prepare(lda_model, data_matrix, vectorizer, mds='tsne')"
   ]
  },
  {
   "cell_type": "code",
   "execution_count": null,
   "id": "eef841e8",
   "metadata": {},
   "outputs": [],
   "source": [
    "### Getting the Top Words for each topic"
   ]
  },
  {
   "cell_type": "code",
   "execution_count": 19,
   "id": "970f6746",
   "metadata": {},
   "outputs": [
    {
     "name": "stderr",
     "output_type": "stream",
     "text": [
      "C:\\Users\\Dinesh\\anaconda3\\lib\\site-packages\\ipykernel\\ipkernel.py:287: DeprecationWarning:\n",
      "\n",
      "`should_run_async` will not call `transform_cell` automatically in the future. Please pass the result to `transformed_cell` argument and any exception that happen during thetransform in `preprocessing_exc_tuple` in IPython 7.17 and above.\n",
      "\n"
     ]
    }
   ],
   "source": [
    "import numpy as np \n",
    "import matplotlib.pyplot as plt\n",
    "import seaborn as sns\n",
    "\n",
    "from sklearn.feature_extraction.text import CountVectorizer\n",
    "from sklearn.decomposition import LatentDirichletAllocation\n",
    "from sklearn.feature_extraction.text import TfidfVectorizer\n",
    "from sklearn.decomposition import NMF"
   ]
  },
  {
   "cell_type": "code",
   "execution_count": 20,
   "id": "ed9b6000",
   "metadata": {},
   "outputs": [
    {
     "name": "stderr",
     "output_type": "stream",
     "text": [
      "C:\\Users\\Dinesh\\anaconda3\\lib\\site-packages\\ipykernel\\ipkernel.py:287: DeprecationWarning:\n",
      "\n",
      "`should_run_async` will not call `transform_cell` automatically in the future. Please pass the result to `transformed_cell` argument and any exception that happen during thetransform in `preprocessing_exc_tuple` in IPython 7.17 and above.\n",
      "\n"
     ]
    }
   ],
   "source": [
    "vectorizer = CountVectorizer(max_df=0.8, min_df=4, stop_words='english')"
   ]
  },
  {
   "cell_type": "code",
   "execution_count": 22,
   "id": "95a9e53d",
   "metadata": {},
   "outputs": [
    {
     "name": "stderr",
     "output_type": "stream",
     "text": [
      "C:\\Users\\Dinesh\\anaconda3\\lib\\site-packages\\ipykernel\\ipkernel.py:287: DeprecationWarning:\n",
      "\n",
      "`should_run_async` will not call `transform_cell` automatically in the future. Please pass the result to `transformed_cell` argument and any exception that happen during thetransform in `preprocessing_exc_tuple` in IPython 7.17 and above.\n",
      "\n"
     ]
    }
   ],
   "source": [
    "doc_term_matrix = vectorizer.fit_transform(df[\"text\"].values.astype('U'))"
   ]
  },
  {
   "cell_type": "code",
   "execution_count": 23,
   "id": "51e79932",
   "metadata": {},
   "outputs": [
    {
     "name": "stderr",
     "output_type": "stream",
     "text": [
      "C:\\Users\\Dinesh\\anaconda3\\lib\\site-packages\\ipykernel\\ipkernel.py:287: DeprecationWarning:\n",
      "\n",
      "`should_run_async` will not call `transform_cell` automatically in the future. Please pass the result to `transformed_cell` argument and any exception that happen during thetransform in `preprocessing_exc_tuple` in IPython 7.17 and above.\n",
      "\n"
     ]
    },
    {
     "data": {
      "text/plain": [
       "(200, 610)"
      ]
     },
     "execution_count": 23,
     "metadata": {},
     "output_type": "execute_result"
    }
   ],
   "source": [
    "doc_term_matrix.shape"
   ]
  },
  {
   "cell_type": "code",
   "execution_count": 24,
   "id": "e8303698",
   "metadata": {},
   "outputs": [
    {
     "name": "stderr",
     "output_type": "stream",
     "text": [
      "C:\\Users\\Dinesh\\anaconda3\\lib\\site-packages\\ipykernel\\ipkernel.py:287: DeprecationWarning:\n",
      "\n",
      "`should_run_async` will not call `transform_cell` automatically in the future. Please pass the result to `transformed_cell` argument and any exception that happen during thetransform in `preprocessing_exc_tuple` in IPython 7.17 and above.\n",
      "\n"
     ]
    },
    {
     "data": {
      "text/plain": [
       "LatentDirichletAllocation(n_components=5, random_state=35)"
      ]
     },
     "execution_count": 24,
     "metadata": {},
     "output_type": "execute_result"
    }
   ],
   "source": [
    "LDA = LatentDirichletAllocation(n_components=5, random_state=35)\n",
    "LDA.fit(doc_term_matrix)"
   ]
  },
  {
   "cell_type": "code",
   "execution_count": 25,
   "id": "117b41b5",
   "metadata": {},
   "outputs": [
    {
     "name": "stdout",
     "output_type": "stream",
     "text": [
      "Top 10 words for topic #0:\n",
      "['park', 'bed', 'service', 'location', 'home', 'central', 'really', 'room', 'staff', 'hotel']\n",
      "\n",
      "\n",
      "Top 10 words for topic #1:\n",
      "['th', 'das', 'elevator', 'central', 'city', 'sehr', 'hotel', 'und', 'new', 'great']\n",
      "\n",
      "\n",
      "Top 10 words for topic #2:\n",
      "['nice', 'area', 'great', 'rooms', 'clean', 'good', 'staff', 'room', 'stay', 'hotel']\n",
      "\n",
      "\n",
      "Top 10 words for topic #3:\n",
      "['clean', 'rooms', 'carlos', 'san', 'suite', 'staff', 'great', 'breakfast', 'room', 'hotel']\n",
      "\n",
      "\n",
      "Top 10 words for topic #4:\n",
      "['stayed', 'bed', 'location', 'excellent', 'great', 'room', 'nice', 'staff', 'stay', 'hotel']\n",
      "\n",
      "\n"
     ]
    },
    {
     "name": "stderr",
     "output_type": "stream",
     "text": [
      "C:\\Users\\Dinesh\\anaconda3\\lib\\site-packages\\ipykernel\\ipkernel.py:287: DeprecationWarning:\n",
      "\n",
      "`should_run_async` will not call `transform_cell` automatically in the future. Please pass the result to `transformed_cell` argument and any exception that happen during thetransform in `preprocessing_exc_tuple` in IPython 7.17 and above.\n",
      "\n"
     ]
    }
   ],
   "source": [
    "for i,topic in enumerate(LDA.components_):\n",
    "    print(f'Top 10 words for topic #{i}:')\n",
    "    print([vectorizer.get_feature_names()[i] for i in topic.argsort()[-10:]])\n",
    "    print('\\n')"
   ]
  },
  {
   "cell_type": "markdown",
   "id": "a09a712e",
   "metadata": {},
   "source": [
    "## Sentiment Analysis"
   ]
  },
  {
   "cell_type": "code",
   "execution_count": 27,
   "id": "d18ca99d",
   "metadata": {},
   "outputs": [
    {
     "name": "stderr",
     "output_type": "stream",
     "text": [
      "C:\\Users\\Dinesh\\anaconda3\\lib\\site-packages\\ipykernel\\ipkernel.py:287: DeprecationWarning:\n",
      "\n",
      "`should_run_async` will not call `transform_cell` automatically in the future. Please pass the result to `transformed_cell` argument and any exception that happen during thetransform in `preprocessing_exc_tuple` in IPython 7.17 and above.\n",
      "\n"
     ]
    },
    {
     "name": "stdout",
     "output_type": "stream",
     "text": [
      "Collecting NRCLex\n",
      "  Downloading NRCLex-3.0.0.tar.gz (396 kB)\n",
      "Collecting textblob\n",
      "  Downloading textblob-0.17.1-py2.py3-none-any.whl (636 kB)\n",
      "Requirement already satisfied: nltk>=3.1 in c:\\users\\dinesh\\anaconda3\\lib\\site-packages (from textblob->NRCLex) (3.6.1)\n",
      "Requirement already satisfied: joblib in c:\\users\\dinesh\\anaconda3\\lib\\site-packages (from nltk>=3.1->textblob->NRCLex) (1.0.1)\n",
      "Requirement already satisfied: tqdm in c:\\users\\dinesh\\anaconda3\\lib\\site-packages (from nltk>=3.1->textblob->NRCLex) (4.59.0)\n",
      "Requirement already satisfied: regex in c:\\users\\dinesh\\anaconda3\\lib\\site-packages (from nltk>=3.1->textblob->NRCLex) (2021.4.4)\n",
      "Requirement already satisfied: click in c:\\users\\dinesh\\anaconda3\\lib\\site-packages (from nltk>=3.1->textblob->NRCLex) (7.1.2)\n",
      "Building wheels for collected packages: NRCLex\n",
      "  Building wheel for NRCLex (setup.py): started\n",
      "  Building wheel for NRCLex (setup.py): finished with status 'done'\n",
      "  Created wheel for NRCLex: filename=NRCLex-3.0.0-py3-none-any.whl size=43320 sha256=c199b2b271a3e1759479583241d8f28077e35e0909839340ce77583581f6397a\n",
      "  Stored in directory: c:\\users\\dinesh\\appdata\\local\\pip\\cache\\wheels\\83\\95\\c0\\42b43fb15eb48e4f5a67cba8915540cb2783591c59c037a9e5\n",
      "Successfully built NRCLex\n",
      "Installing collected packages: textblob, NRCLex\n",
      "Successfully installed NRCLex-3.0.0 textblob-0.17.1\n"
     ]
    }
   ],
   "source": [
    "!pip install NRCLex"
   ]
  },
  {
   "cell_type": "code",
   "execution_count": 30,
   "id": "efdb487a",
   "metadata": {},
   "outputs": [
    {
     "name": "stderr",
     "output_type": "stream",
     "text": [
      "C:\\Users\\Dinesh\\anaconda3\\lib\\site-packages\\ipykernel\\ipkernel.py:287: DeprecationWarning:\n",
      "\n",
      "`should_run_async` will not call `transform_cell` automatically in the future. Please pass the result to `transformed_cell` argument and any exception that happen during thetransform in `preprocessing_exc_tuple` in IPython 7.17 and above.\n",
      "\n"
     ]
    }
   ],
   "source": [
    "from nrclex import NRCLex\n",
    "str_tweet = \",\".join(df[\"text\"])\n",
    "text_object = NRCLex(str_tweet)"
   ]
  },
  {
   "cell_type": "code",
   "execution_count": 31,
   "id": "cf0492b5",
   "metadata": {},
   "outputs": [
    {
     "name": "stderr",
     "output_type": "stream",
     "text": [
      "C:\\Users\\Dinesh\\anaconda3\\lib\\site-packages\\ipykernel\\ipkernel.py:287: DeprecationWarning:\n",
      "\n",
      "`should_run_async` will not call `transform_cell` automatically in the future. Please pass the result to `transformed_cell` argument and any exception that happen during thetransform in `preprocessing_exc_tuple` in IPython 7.17 and above.\n",
      "\n"
     ]
    }
   ],
   "source": [
    "data = text_object.raw_emotion_scores"
   ]
  },
  {
   "cell_type": "code",
   "execution_count": 32,
   "id": "beb08784",
   "metadata": {},
   "outputs": [
    {
     "name": "stderr",
     "output_type": "stream",
     "text": [
      "C:\\Users\\Dinesh\\anaconda3\\lib\\site-packages\\ipykernel\\ipkernel.py:287: DeprecationWarning:\n",
      "\n",
      "`should_run_async` will not call `transform_cell` automatically in the future. Please pass the result to `transformed_cell` argument and any exception that happen during thetransform in `preprocessing_exc_tuple` in IPython 7.17 and above.\n",
      "\n"
     ]
    },
    {
     "data": {
      "text/plain": [
       "{'joy': 823,\n",
       " 'positive': 1558,\n",
       " 'trust': 875,\n",
       " 'anticipation': 597,\n",
       " 'anger': 130,\n",
       " 'surprise': 308,\n",
       " 'negative': 358,\n",
       " 'sadness': 194,\n",
       " 'disgust': 88,\n",
       " 'fear': 109}"
      ]
     },
     "execution_count": 32,
     "metadata": {},
     "output_type": "execute_result"
    }
   ],
   "source": [
    "data"
   ]
  },
  {
   "cell_type": "code",
   "execution_count": 33,
   "id": "6f516331",
   "metadata": {},
   "outputs": [
    {
     "name": "stderr",
     "output_type": "stream",
     "text": [
      "C:\\Users\\Dinesh\\anaconda3\\lib\\site-packages\\ipykernel\\ipkernel.py:287: DeprecationWarning:\n",
      "\n",
      "`should_run_async` will not call `transform_cell` automatically in the future. Please pass the result to `transformed_cell` argument and any exception that happen during thetransform in `preprocessing_exc_tuple` in IPython 7.17 and above.\n",
      "\n"
     ]
    },
    {
     "data": {
      "application/vnd.plotly.v1+json": {
       "config": {
        "plotlyServerURL": "https://plot.ly"
       },
       "data": [
        {
         "alignmentgroup": "True",
         "hovertemplate": "Emotion Classification=%{y}<br>Emotion Count=%{x}<extra></extra>",
         "legendgroup": "positive",
         "marker": {
          "color": "#636efa",
          "pattern": {
           "shape": ""
          }
         },
         "name": "positive",
         "offsetgroup": "positive",
         "orientation": "h",
         "showlegend": true,
         "textposition": "auto",
         "type": "bar",
         "x": [
          1558
         ],
         "xaxis": "x",
         "y": [
          "positive"
         ],
         "yaxis": "y"
        },
        {
         "alignmentgroup": "True",
         "hovertemplate": "Emotion Classification=%{y}<br>Emotion Count=%{x}<extra></extra>",
         "legendgroup": "trust",
         "marker": {
          "color": "#EF553B",
          "pattern": {
           "shape": ""
          }
         },
         "name": "trust",
         "offsetgroup": "trust",
         "orientation": "h",
         "showlegend": true,
         "textposition": "auto",
         "type": "bar",
         "x": [
          875
         ],
         "xaxis": "x",
         "y": [
          "trust"
         ],
         "yaxis": "y"
        },
        {
         "alignmentgroup": "True",
         "hovertemplate": "Emotion Classification=%{y}<br>Emotion Count=%{x}<extra></extra>",
         "legendgroup": "joy",
         "marker": {
          "color": "#00cc96",
          "pattern": {
           "shape": ""
          }
         },
         "name": "joy",
         "offsetgroup": "joy",
         "orientation": "h",
         "showlegend": true,
         "textposition": "auto",
         "type": "bar",
         "x": [
          823
         ],
         "xaxis": "x",
         "y": [
          "joy"
         ],
         "yaxis": "y"
        },
        {
         "alignmentgroup": "True",
         "hovertemplate": "Emotion Classification=%{y}<br>Emotion Count=%{x}<extra></extra>",
         "legendgroup": "anticipation",
         "marker": {
          "color": "#ab63fa",
          "pattern": {
           "shape": ""
          }
         },
         "name": "anticipation",
         "offsetgroup": "anticipation",
         "orientation": "h",
         "showlegend": true,
         "textposition": "auto",
         "type": "bar",
         "x": [
          597
         ],
         "xaxis": "x",
         "y": [
          "anticipation"
         ],
         "yaxis": "y"
        },
        {
         "alignmentgroup": "True",
         "hovertemplate": "Emotion Classification=%{y}<br>Emotion Count=%{x}<extra></extra>",
         "legendgroup": "negative",
         "marker": {
          "color": "#FFA15A",
          "pattern": {
           "shape": ""
          }
         },
         "name": "negative",
         "offsetgroup": "negative",
         "orientation": "h",
         "showlegend": true,
         "textposition": "auto",
         "type": "bar",
         "x": [
          358
         ],
         "xaxis": "x",
         "y": [
          "negative"
         ],
         "yaxis": "y"
        },
        {
         "alignmentgroup": "True",
         "hovertemplate": "Emotion Classification=%{y}<br>Emotion Count=%{x}<extra></extra>",
         "legendgroup": "surprise",
         "marker": {
          "color": "#19d3f3",
          "pattern": {
           "shape": ""
          }
         },
         "name": "surprise",
         "offsetgroup": "surprise",
         "orientation": "h",
         "showlegend": true,
         "textposition": "auto",
         "type": "bar",
         "x": [
          308
         ],
         "xaxis": "x",
         "y": [
          "surprise"
         ],
         "yaxis": "y"
        },
        {
         "alignmentgroup": "True",
         "hovertemplate": "Emotion Classification=%{y}<br>Emotion Count=%{x}<extra></extra>",
         "legendgroup": "sadness",
         "marker": {
          "color": "#FF6692",
          "pattern": {
           "shape": ""
          }
         },
         "name": "sadness",
         "offsetgroup": "sadness",
         "orientation": "h",
         "showlegend": true,
         "textposition": "auto",
         "type": "bar",
         "x": [
          194
         ],
         "xaxis": "x",
         "y": [
          "sadness"
         ],
         "yaxis": "y"
        },
        {
         "alignmentgroup": "True",
         "hovertemplate": "Emotion Classification=%{y}<br>Emotion Count=%{x}<extra></extra>",
         "legendgroup": "anger",
         "marker": {
          "color": "#B6E880",
          "pattern": {
           "shape": ""
          }
         },
         "name": "anger",
         "offsetgroup": "anger",
         "orientation": "h",
         "showlegend": true,
         "textposition": "auto",
         "type": "bar",
         "x": [
          130
         ],
         "xaxis": "x",
         "y": [
          "anger"
         ],
         "yaxis": "y"
        },
        {
         "alignmentgroup": "True",
         "hovertemplate": "Emotion Classification=%{y}<br>Emotion Count=%{x}<extra></extra>",
         "legendgroup": "fear",
         "marker": {
          "color": "#FF97FF",
          "pattern": {
           "shape": ""
          }
         },
         "name": "fear",
         "offsetgroup": "fear",
         "orientation": "h",
         "showlegend": true,
         "textposition": "auto",
         "type": "bar",
         "x": [
          109
         ],
         "xaxis": "x",
         "y": [
          "fear"
         ],
         "yaxis": "y"
        },
        {
         "alignmentgroup": "True",
         "hovertemplate": "Emotion Classification=%{y}<br>Emotion Count=%{x}<extra></extra>",
         "legendgroup": "disgust",
         "marker": {
          "color": "#FECB52",
          "pattern": {
           "shape": ""
          }
         },
         "name": "disgust",
         "offsetgroup": "disgust",
         "orientation": "h",
         "showlegend": true,
         "textposition": "auto",
         "type": "bar",
         "x": [
          88
         ],
         "xaxis": "x",
         "y": [
          "disgust"
         ],
         "yaxis": "y"
        }
       ],
       "layout": {
        "barmode": "relative",
        "height": 400,
        "legend": {
         "title": {
          "text": "Emotion Classification"
         },
         "tracegroupgap": 0
        },
        "margin": {
         "t": 60
        },
        "template": {
         "data": {
          "bar": [
           {
            "error_x": {
             "color": "#2a3f5f"
            },
            "error_y": {
             "color": "#2a3f5f"
            },
            "marker": {
             "line": {
              "color": "#E5ECF6",
              "width": 0.5
             },
             "pattern": {
              "fillmode": "overlay",
              "size": 10,
              "solidity": 0.2
             }
            },
            "type": "bar"
           }
          ],
          "barpolar": [
           {
            "marker": {
             "line": {
              "color": "#E5ECF6",
              "width": 0.5
             },
             "pattern": {
              "fillmode": "overlay",
              "size": 10,
              "solidity": 0.2
             }
            },
            "type": "barpolar"
           }
          ],
          "carpet": [
           {
            "aaxis": {
             "endlinecolor": "#2a3f5f",
             "gridcolor": "white",
             "linecolor": "white",
             "minorgridcolor": "white",
             "startlinecolor": "#2a3f5f"
            },
            "baxis": {
             "endlinecolor": "#2a3f5f",
             "gridcolor": "white",
             "linecolor": "white",
             "minorgridcolor": "white",
             "startlinecolor": "#2a3f5f"
            },
            "type": "carpet"
           }
          ],
          "choropleth": [
           {
            "colorbar": {
             "outlinewidth": 0,
             "ticks": ""
            },
            "type": "choropleth"
           }
          ],
          "contour": [
           {
            "colorbar": {
             "outlinewidth": 0,
             "ticks": ""
            },
            "colorscale": [
             [
              0,
              "#0d0887"
             ],
             [
              0.1111111111111111,
              "#46039f"
             ],
             [
              0.2222222222222222,
              "#7201a8"
             ],
             [
              0.3333333333333333,
              "#9c179e"
             ],
             [
              0.4444444444444444,
              "#bd3786"
             ],
             [
              0.5555555555555556,
              "#d8576b"
             ],
             [
              0.6666666666666666,
              "#ed7953"
             ],
             [
              0.7777777777777778,
              "#fb9f3a"
             ],
             [
              0.8888888888888888,
              "#fdca26"
             ],
             [
              1,
              "#f0f921"
             ]
            ],
            "type": "contour"
           }
          ],
          "contourcarpet": [
           {
            "colorbar": {
             "outlinewidth": 0,
             "ticks": ""
            },
            "type": "contourcarpet"
           }
          ],
          "heatmap": [
           {
            "colorbar": {
             "outlinewidth": 0,
             "ticks": ""
            },
            "colorscale": [
             [
              0,
              "#0d0887"
             ],
             [
              0.1111111111111111,
              "#46039f"
             ],
             [
              0.2222222222222222,
              "#7201a8"
             ],
             [
              0.3333333333333333,
              "#9c179e"
             ],
             [
              0.4444444444444444,
              "#bd3786"
             ],
             [
              0.5555555555555556,
              "#d8576b"
             ],
             [
              0.6666666666666666,
              "#ed7953"
             ],
             [
              0.7777777777777778,
              "#fb9f3a"
             ],
             [
              0.8888888888888888,
              "#fdca26"
             ],
             [
              1,
              "#f0f921"
             ]
            ],
            "type": "heatmap"
           }
          ],
          "heatmapgl": [
           {
            "colorbar": {
             "outlinewidth": 0,
             "ticks": ""
            },
            "colorscale": [
             [
              0,
              "#0d0887"
             ],
             [
              0.1111111111111111,
              "#46039f"
             ],
             [
              0.2222222222222222,
              "#7201a8"
             ],
             [
              0.3333333333333333,
              "#9c179e"
             ],
             [
              0.4444444444444444,
              "#bd3786"
             ],
             [
              0.5555555555555556,
              "#d8576b"
             ],
             [
              0.6666666666666666,
              "#ed7953"
             ],
             [
              0.7777777777777778,
              "#fb9f3a"
             ],
             [
              0.8888888888888888,
              "#fdca26"
             ],
             [
              1,
              "#f0f921"
             ]
            ],
            "type": "heatmapgl"
           }
          ],
          "histogram": [
           {
            "marker": {
             "pattern": {
              "fillmode": "overlay",
              "size": 10,
              "solidity": 0.2
             }
            },
            "type": "histogram"
           }
          ],
          "histogram2d": [
           {
            "colorbar": {
             "outlinewidth": 0,
             "ticks": ""
            },
            "colorscale": [
             [
              0,
              "#0d0887"
             ],
             [
              0.1111111111111111,
              "#46039f"
             ],
             [
              0.2222222222222222,
              "#7201a8"
             ],
             [
              0.3333333333333333,
              "#9c179e"
             ],
             [
              0.4444444444444444,
              "#bd3786"
             ],
             [
              0.5555555555555556,
              "#d8576b"
             ],
             [
              0.6666666666666666,
              "#ed7953"
             ],
             [
              0.7777777777777778,
              "#fb9f3a"
             ],
             [
              0.8888888888888888,
              "#fdca26"
             ],
             [
              1,
              "#f0f921"
             ]
            ],
            "type": "histogram2d"
           }
          ],
          "histogram2dcontour": [
           {
            "colorbar": {
             "outlinewidth": 0,
             "ticks": ""
            },
            "colorscale": [
             [
              0,
              "#0d0887"
             ],
             [
              0.1111111111111111,
              "#46039f"
             ],
             [
              0.2222222222222222,
              "#7201a8"
             ],
             [
              0.3333333333333333,
              "#9c179e"
             ],
             [
              0.4444444444444444,
              "#bd3786"
             ],
             [
              0.5555555555555556,
              "#d8576b"
             ],
             [
              0.6666666666666666,
              "#ed7953"
             ],
             [
              0.7777777777777778,
              "#fb9f3a"
             ],
             [
              0.8888888888888888,
              "#fdca26"
             ],
             [
              1,
              "#f0f921"
             ]
            ],
            "type": "histogram2dcontour"
           }
          ],
          "mesh3d": [
           {
            "colorbar": {
             "outlinewidth": 0,
             "ticks": ""
            },
            "type": "mesh3d"
           }
          ],
          "parcoords": [
           {
            "line": {
             "colorbar": {
              "outlinewidth": 0,
              "ticks": ""
             }
            },
            "type": "parcoords"
           }
          ],
          "pie": [
           {
            "automargin": true,
            "type": "pie"
           }
          ],
          "scatter": [
           {
            "marker": {
             "colorbar": {
              "outlinewidth": 0,
              "ticks": ""
             }
            },
            "type": "scatter"
           }
          ],
          "scatter3d": [
           {
            "line": {
             "colorbar": {
              "outlinewidth": 0,
              "ticks": ""
             }
            },
            "marker": {
             "colorbar": {
              "outlinewidth": 0,
              "ticks": ""
             }
            },
            "type": "scatter3d"
           }
          ],
          "scattercarpet": [
           {
            "marker": {
             "colorbar": {
              "outlinewidth": 0,
              "ticks": ""
             }
            },
            "type": "scattercarpet"
           }
          ],
          "scattergeo": [
           {
            "marker": {
             "colorbar": {
              "outlinewidth": 0,
              "ticks": ""
             }
            },
            "type": "scattergeo"
           }
          ],
          "scattergl": [
           {
            "marker": {
             "colorbar": {
              "outlinewidth": 0,
              "ticks": ""
             }
            },
            "type": "scattergl"
           }
          ],
          "scattermapbox": [
           {
            "marker": {
             "colorbar": {
              "outlinewidth": 0,
              "ticks": ""
             }
            },
            "type": "scattermapbox"
           }
          ],
          "scatterpolar": [
           {
            "marker": {
             "colorbar": {
              "outlinewidth": 0,
              "ticks": ""
             }
            },
            "type": "scatterpolar"
           }
          ],
          "scatterpolargl": [
           {
            "marker": {
             "colorbar": {
              "outlinewidth": 0,
              "ticks": ""
             }
            },
            "type": "scatterpolargl"
           }
          ],
          "scatterternary": [
           {
            "marker": {
             "colorbar": {
              "outlinewidth": 0,
              "ticks": ""
             }
            },
            "type": "scatterternary"
           }
          ],
          "surface": [
           {
            "colorbar": {
             "outlinewidth": 0,
             "ticks": ""
            },
            "colorscale": [
             [
              0,
              "#0d0887"
             ],
             [
              0.1111111111111111,
              "#46039f"
             ],
             [
              0.2222222222222222,
              "#7201a8"
             ],
             [
              0.3333333333333333,
              "#9c179e"
             ],
             [
              0.4444444444444444,
              "#bd3786"
             ],
             [
              0.5555555555555556,
              "#d8576b"
             ],
             [
              0.6666666666666666,
              "#ed7953"
             ],
             [
              0.7777777777777778,
              "#fb9f3a"
             ],
             [
              0.8888888888888888,
              "#fdca26"
             ],
             [
              1,
              "#f0f921"
             ]
            ],
            "type": "surface"
           }
          ],
          "table": [
           {
            "cells": {
             "fill": {
              "color": "#EBF0F8"
             },
             "line": {
              "color": "white"
             }
            },
            "header": {
             "fill": {
              "color": "#C8D4E3"
             },
             "line": {
              "color": "white"
             }
            },
            "type": "table"
           }
          ]
         },
         "layout": {
          "annotationdefaults": {
           "arrowcolor": "#2a3f5f",
           "arrowhead": 0,
           "arrowwidth": 1
          },
          "autotypenumbers": "strict",
          "coloraxis": {
           "colorbar": {
            "outlinewidth": 0,
            "ticks": ""
           }
          },
          "colorscale": {
           "diverging": [
            [
             0,
             "#8e0152"
            ],
            [
             0.1,
             "#c51b7d"
            ],
            [
             0.2,
             "#de77ae"
            ],
            [
             0.3,
             "#f1b6da"
            ],
            [
             0.4,
             "#fde0ef"
            ],
            [
             0.5,
             "#f7f7f7"
            ],
            [
             0.6,
             "#e6f5d0"
            ],
            [
             0.7,
             "#b8e186"
            ],
            [
             0.8,
             "#7fbc41"
            ],
            [
             0.9,
             "#4d9221"
            ],
            [
             1,
             "#276419"
            ]
           ],
           "sequential": [
            [
             0,
             "#0d0887"
            ],
            [
             0.1111111111111111,
             "#46039f"
            ],
            [
             0.2222222222222222,
             "#7201a8"
            ],
            [
             0.3333333333333333,
             "#9c179e"
            ],
            [
             0.4444444444444444,
             "#bd3786"
            ],
            [
             0.5555555555555556,
             "#d8576b"
            ],
            [
             0.6666666666666666,
             "#ed7953"
            ],
            [
             0.7777777777777778,
             "#fb9f3a"
            ],
            [
             0.8888888888888888,
             "#fdca26"
            ],
            [
             1,
             "#f0f921"
            ]
           ],
           "sequentialminus": [
            [
             0,
             "#0d0887"
            ],
            [
             0.1111111111111111,
             "#46039f"
            ],
            [
             0.2222222222222222,
             "#7201a8"
            ],
            [
             0.3333333333333333,
             "#9c179e"
            ],
            [
             0.4444444444444444,
             "#bd3786"
            ],
            [
             0.5555555555555556,
             "#d8576b"
            ],
            [
             0.6666666666666666,
             "#ed7953"
            ],
            [
             0.7777777777777778,
             "#fb9f3a"
            ],
            [
             0.8888888888888888,
             "#fdca26"
            ],
            [
             1,
             "#f0f921"
            ]
           ]
          },
          "colorway": [
           "#636efa",
           "#EF553B",
           "#00cc96",
           "#ab63fa",
           "#FFA15A",
           "#19d3f3",
           "#FF6692",
           "#B6E880",
           "#FF97FF",
           "#FECB52"
          ],
          "font": {
           "color": "#2a3f5f"
          },
          "geo": {
           "bgcolor": "white",
           "lakecolor": "white",
           "landcolor": "#E5ECF6",
           "showlakes": true,
           "showland": true,
           "subunitcolor": "white"
          },
          "hoverlabel": {
           "align": "left"
          },
          "hovermode": "closest",
          "mapbox": {
           "style": "light"
          },
          "paper_bgcolor": "white",
          "plot_bgcolor": "#E5ECF6",
          "polar": {
           "angularaxis": {
            "gridcolor": "white",
            "linecolor": "white",
            "ticks": ""
           },
           "bgcolor": "#E5ECF6",
           "radialaxis": {
            "gridcolor": "white",
            "linecolor": "white",
            "ticks": ""
           }
          },
          "scene": {
           "xaxis": {
            "backgroundcolor": "#E5ECF6",
            "gridcolor": "white",
            "gridwidth": 2,
            "linecolor": "white",
            "showbackground": true,
            "ticks": "",
            "zerolinecolor": "white"
           },
           "yaxis": {
            "backgroundcolor": "#E5ECF6",
            "gridcolor": "white",
            "gridwidth": 2,
            "linecolor": "white",
            "showbackground": true,
            "ticks": "",
            "zerolinecolor": "white"
           },
           "zaxis": {
            "backgroundcolor": "#E5ECF6",
            "gridcolor": "white",
            "gridwidth": 2,
            "linecolor": "white",
            "showbackground": true,
            "ticks": "",
            "zerolinecolor": "white"
           }
          },
          "shapedefaults": {
           "line": {
            "color": "#2a3f5f"
           }
          },
          "ternary": {
           "aaxis": {
            "gridcolor": "white",
            "linecolor": "white",
            "ticks": ""
           },
           "baxis": {
            "gridcolor": "white",
            "linecolor": "white",
            "ticks": ""
           },
           "bgcolor": "#E5ECF6",
           "caxis": {
            "gridcolor": "white",
            "linecolor": "white",
            "ticks": ""
           }
          },
          "title": {
           "x": 0.05
          },
          "xaxis": {
           "automargin": true,
           "gridcolor": "white",
           "linecolor": "white",
           "ticks": "",
           "title": {
            "standoff": 15
           },
           "zerolinecolor": "white",
           "zerolinewidth": 2
          },
          "yaxis": {
           "automargin": true,
           "gridcolor": "white",
           "linecolor": "white",
           "ticks": "",
           "title": {
            "standoff": 15
           },
           "zerolinecolor": "white",
           "zerolinewidth": 2
          }
         }
        },
        "width": 800,
        "xaxis": {
         "anchor": "y",
         "domain": [
          0,
          1
         ],
         "title": {
          "text": "Emotion Count"
         }
        },
        "yaxis": {
         "anchor": "x",
         "categoryarray": [
          "disgust",
          "fear",
          "anger",
          "sadness",
          "surprise",
          "negative",
          "anticipation",
          "joy",
          "trust",
          "positive"
         ],
         "categoryorder": "array",
         "domain": [
          0,
          1
         ],
         "title": {
          "text": "Emotion Classification"
         }
        }
       }
      },
      "text/html": [
       "<div>                            <div id=\"7be48a74-cf01-4ae4-8768-ce06609c9e0c\" class=\"plotly-graph-div\" style=\"height:400px; width:800px;\"></div>            <script type=\"text/javascript\">                require([\"plotly\"], function(Plotly) {                    window.PLOTLYENV=window.PLOTLYENV || {};                                    if (document.getElementById(\"7be48a74-cf01-4ae4-8768-ce06609c9e0c\")) {                    Plotly.newPlot(                        \"7be48a74-cf01-4ae4-8768-ce06609c9e0c\",                        [{\"alignmentgroup\":\"True\",\"hovertemplate\":\"Emotion Classification=%{y}<br>Emotion Count=%{x}<extra></extra>\",\"legendgroup\":\"positive\",\"marker\":{\"color\":\"#636efa\",\"pattern\":{\"shape\":\"\"}},\"name\":\"positive\",\"offsetgroup\":\"positive\",\"orientation\":\"h\",\"showlegend\":true,\"textposition\":\"auto\",\"x\":[1558],\"xaxis\":\"x\",\"y\":[\"positive\"],\"yaxis\":\"y\",\"type\":\"bar\"},{\"alignmentgroup\":\"True\",\"hovertemplate\":\"Emotion Classification=%{y}<br>Emotion Count=%{x}<extra></extra>\",\"legendgroup\":\"trust\",\"marker\":{\"color\":\"#EF553B\",\"pattern\":{\"shape\":\"\"}},\"name\":\"trust\",\"offsetgroup\":\"trust\",\"orientation\":\"h\",\"showlegend\":true,\"textposition\":\"auto\",\"x\":[875],\"xaxis\":\"x\",\"y\":[\"trust\"],\"yaxis\":\"y\",\"type\":\"bar\"},{\"alignmentgroup\":\"True\",\"hovertemplate\":\"Emotion Classification=%{y}<br>Emotion Count=%{x}<extra></extra>\",\"legendgroup\":\"joy\",\"marker\":{\"color\":\"#00cc96\",\"pattern\":{\"shape\":\"\"}},\"name\":\"joy\",\"offsetgroup\":\"joy\",\"orientation\":\"h\",\"showlegend\":true,\"textposition\":\"auto\",\"x\":[823],\"xaxis\":\"x\",\"y\":[\"joy\"],\"yaxis\":\"y\",\"type\":\"bar\"},{\"alignmentgroup\":\"True\",\"hovertemplate\":\"Emotion Classification=%{y}<br>Emotion Count=%{x}<extra></extra>\",\"legendgroup\":\"anticipation\",\"marker\":{\"color\":\"#ab63fa\",\"pattern\":{\"shape\":\"\"}},\"name\":\"anticipation\",\"offsetgroup\":\"anticipation\",\"orientation\":\"h\",\"showlegend\":true,\"textposition\":\"auto\",\"x\":[597],\"xaxis\":\"x\",\"y\":[\"anticipation\"],\"yaxis\":\"y\",\"type\":\"bar\"},{\"alignmentgroup\":\"True\",\"hovertemplate\":\"Emotion Classification=%{y}<br>Emotion Count=%{x}<extra></extra>\",\"legendgroup\":\"negative\",\"marker\":{\"color\":\"#FFA15A\",\"pattern\":{\"shape\":\"\"}},\"name\":\"negative\",\"offsetgroup\":\"negative\",\"orientation\":\"h\",\"showlegend\":true,\"textposition\":\"auto\",\"x\":[358],\"xaxis\":\"x\",\"y\":[\"negative\"],\"yaxis\":\"y\",\"type\":\"bar\"},{\"alignmentgroup\":\"True\",\"hovertemplate\":\"Emotion Classification=%{y}<br>Emotion Count=%{x}<extra></extra>\",\"legendgroup\":\"surprise\",\"marker\":{\"color\":\"#19d3f3\",\"pattern\":{\"shape\":\"\"}},\"name\":\"surprise\",\"offsetgroup\":\"surprise\",\"orientation\":\"h\",\"showlegend\":true,\"textposition\":\"auto\",\"x\":[308],\"xaxis\":\"x\",\"y\":[\"surprise\"],\"yaxis\":\"y\",\"type\":\"bar\"},{\"alignmentgroup\":\"True\",\"hovertemplate\":\"Emotion Classification=%{y}<br>Emotion Count=%{x}<extra></extra>\",\"legendgroup\":\"sadness\",\"marker\":{\"color\":\"#FF6692\",\"pattern\":{\"shape\":\"\"}},\"name\":\"sadness\",\"offsetgroup\":\"sadness\",\"orientation\":\"h\",\"showlegend\":true,\"textposition\":\"auto\",\"x\":[194],\"xaxis\":\"x\",\"y\":[\"sadness\"],\"yaxis\":\"y\",\"type\":\"bar\"},{\"alignmentgroup\":\"True\",\"hovertemplate\":\"Emotion Classification=%{y}<br>Emotion Count=%{x}<extra></extra>\",\"legendgroup\":\"anger\",\"marker\":{\"color\":\"#B6E880\",\"pattern\":{\"shape\":\"\"}},\"name\":\"anger\",\"offsetgroup\":\"anger\",\"orientation\":\"h\",\"showlegend\":true,\"textposition\":\"auto\",\"x\":[130],\"xaxis\":\"x\",\"y\":[\"anger\"],\"yaxis\":\"y\",\"type\":\"bar\"},{\"alignmentgroup\":\"True\",\"hovertemplate\":\"Emotion Classification=%{y}<br>Emotion Count=%{x}<extra></extra>\",\"legendgroup\":\"fear\",\"marker\":{\"color\":\"#FF97FF\",\"pattern\":{\"shape\":\"\"}},\"name\":\"fear\",\"offsetgroup\":\"fear\",\"orientation\":\"h\",\"showlegend\":true,\"textposition\":\"auto\",\"x\":[109],\"xaxis\":\"x\",\"y\":[\"fear\"],\"yaxis\":\"y\",\"type\":\"bar\"},{\"alignmentgroup\":\"True\",\"hovertemplate\":\"Emotion Classification=%{y}<br>Emotion Count=%{x}<extra></extra>\",\"legendgroup\":\"disgust\",\"marker\":{\"color\":\"#FECB52\",\"pattern\":{\"shape\":\"\"}},\"name\":\"disgust\",\"offsetgroup\":\"disgust\",\"orientation\":\"h\",\"showlegend\":true,\"textposition\":\"auto\",\"x\":[88],\"xaxis\":\"x\",\"y\":[\"disgust\"],\"yaxis\":\"y\",\"type\":\"bar\"}],                        {\"template\":{\"data\":{\"bar\":[{\"error_x\":{\"color\":\"#2a3f5f\"},\"error_y\":{\"color\":\"#2a3f5f\"},\"marker\":{\"line\":{\"color\":\"#E5ECF6\",\"width\":0.5},\"pattern\":{\"fillmode\":\"overlay\",\"size\":10,\"solidity\":0.2}},\"type\":\"bar\"}],\"barpolar\":[{\"marker\":{\"line\":{\"color\":\"#E5ECF6\",\"width\":0.5},\"pattern\":{\"fillmode\":\"overlay\",\"size\":10,\"solidity\":0.2}},\"type\":\"barpolar\"}],\"carpet\":[{\"aaxis\":{\"endlinecolor\":\"#2a3f5f\",\"gridcolor\":\"white\",\"linecolor\":\"white\",\"minorgridcolor\":\"white\",\"startlinecolor\":\"#2a3f5f\"},\"baxis\":{\"endlinecolor\":\"#2a3f5f\",\"gridcolor\":\"white\",\"linecolor\":\"white\",\"minorgridcolor\":\"white\",\"startlinecolor\":\"#2a3f5f\"},\"type\":\"carpet\"}],\"choropleth\":[{\"colorbar\":{\"outlinewidth\":0,\"ticks\":\"\"},\"type\":\"choropleth\"}],\"contour\":[{\"colorbar\":{\"outlinewidth\":0,\"ticks\":\"\"},\"colorscale\":[[0.0,\"#0d0887\"],[0.1111111111111111,\"#46039f\"],[0.2222222222222222,\"#7201a8\"],[0.3333333333333333,\"#9c179e\"],[0.4444444444444444,\"#bd3786\"],[0.5555555555555556,\"#d8576b\"],[0.6666666666666666,\"#ed7953\"],[0.7777777777777778,\"#fb9f3a\"],[0.8888888888888888,\"#fdca26\"],[1.0,\"#f0f921\"]],\"type\":\"contour\"}],\"contourcarpet\":[{\"colorbar\":{\"outlinewidth\":0,\"ticks\":\"\"},\"type\":\"contourcarpet\"}],\"heatmap\":[{\"colorbar\":{\"outlinewidth\":0,\"ticks\":\"\"},\"colorscale\":[[0.0,\"#0d0887\"],[0.1111111111111111,\"#46039f\"],[0.2222222222222222,\"#7201a8\"],[0.3333333333333333,\"#9c179e\"],[0.4444444444444444,\"#bd3786\"],[0.5555555555555556,\"#d8576b\"],[0.6666666666666666,\"#ed7953\"],[0.7777777777777778,\"#fb9f3a\"],[0.8888888888888888,\"#fdca26\"],[1.0,\"#f0f921\"]],\"type\":\"heatmap\"}],\"heatmapgl\":[{\"colorbar\":{\"outlinewidth\":0,\"ticks\":\"\"},\"colorscale\":[[0.0,\"#0d0887\"],[0.1111111111111111,\"#46039f\"],[0.2222222222222222,\"#7201a8\"],[0.3333333333333333,\"#9c179e\"],[0.4444444444444444,\"#bd3786\"],[0.5555555555555556,\"#d8576b\"],[0.6666666666666666,\"#ed7953\"],[0.7777777777777778,\"#fb9f3a\"],[0.8888888888888888,\"#fdca26\"],[1.0,\"#f0f921\"]],\"type\":\"heatmapgl\"}],\"histogram\":[{\"marker\":{\"pattern\":{\"fillmode\":\"overlay\",\"size\":10,\"solidity\":0.2}},\"type\":\"histogram\"}],\"histogram2d\":[{\"colorbar\":{\"outlinewidth\":0,\"ticks\":\"\"},\"colorscale\":[[0.0,\"#0d0887\"],[0.1111111111111111,\"#46039f\"],[0.2222222222222222,\"#7201a8\"],[0.3333333333333333,\"#9c179e\"],[0.4444444444444444,\"#bd3786\"],[0.5555555555555556,\"#d8576b\"],[0.6666666666666666,\"#ed7953\"],[0.7777777777777778,\"#fb9f3a\"],[0.8888888888888888,\"#fdca26\"],[1.0,\"#f0f921\"]],\"type\":\"histogram2d\"}],\"histogram2dcontour\":[{\"colorbar\":{\"outlinewidth\":0,\"ticks\":\"\"},\"colorscale\":[[0.0,\"#0d0887\"],[0.1111111111111111,\"#46039f\"],[0.2222222222222222,\"#7201a8\"],[0.3333333333333333,\"#9c179e\"],[0.4444444444444444,\"#bd3786\"],[0.5555555555555556,\"#d8576b\"],[0.6666666666666666,\"#ed7953\"],[0.7777777777777778,\"#fb9f3a\"],[0.8888888888888888,\"#fdca26\"],[1.0,\"#f0f921\"]],\"type\":\"histogram2dcontour\"}],\"mesh3d\":[{\"colorbar\":{\"outlinewidth\":0,\"ticks\":\"\"},\"type\":\"mesh3d\"}],\"parcoords\":[{\"line\":{\"colorbar\":{\"outlinewidth\":0,\"ticks\":\"\"}},\"type\":\"parcoords\"}],\"pie\":[{\"automargin\":true,\"type\":\"pie\"}],\"scatter\":[{\"marker\":{\"colorbar\":{\"outlinewidth\":0,\"ticks\":\"\"}},\"type\":\"scatter\"}],\"scatter3d\":[{\"line\":{\"colorbar\":{\"outlinewidth\":0,\"ticks\":\"\"}},\"marker\":{\"colorbar\":{\"outlinewidth\":0,\"ticks\":\"\"}},\"type\":\"scatter3d\"}],\"scattercarpet\":[{\"marker\":{\"colorbar\":{\"outlinewidth\":0,\"ticks\":\"\"}},\"type\":\"scattercarpet\"}],\"scattergeo\":[{\"marker\":{\"colorbar\":{\"outlinewidth\":0,\"ticks\":\"\"}},\"type\":\"scattergeo\"}],\"scattergl\":[{\"marker\":{\"colorbar\":{\"outlinewidth\":0,\"ticks\":\"\"}},\"type\":\"scattergl\"}],\"scattermapbox\":[{\"marker\":{\"colorbar\":{\"outlinewidth\":0,\"ticks\":\"\"}},\"type\":\"scattermapbox\"}],\"scatterpolar\":[{\"marker\":{\"colorbar\":{\"outlinewidth\":0,\"ticks\":\"\"}},\"type\":\"scatterpolar\"}],\"scatterpolargl\":[{\"marker\":{\"colorbar\":{\"outlinewidth\":0,\"ticks\":\"\"}},\"type\":\"scatterpolargl\"}],\"scatterternary\":[{\"marker\":{\"colorbar\":{\"outlinewidth\":0,\"ticks\":\"\"}},\"type\":\"scatterternary\"}],\"surface\":[{\"colorbar\":{\"outlinewidth\":0,\"ticks\":\"\"},\"colorscale\":[[0.0,\"#0d0887\"],[0.1111111111111111,\"#46039f\"],[0.2222222222222222,\"#7201a8\"],[0.3333333333333333,\"#9c179e\"],[0.4444444444444444,\"#bd3786\"],[0.5555555555555556,\"#d8576b\"],[0.6666666666666666,\"#ed7953\"],[0.7777777777777778,\"#fb9f3a\"],[0.8888888888888888,\"#fdca26\"],[1.0,\"#f0f921\"]],\"type\":\"surface\"}],\"table\":[{\"cells\":{\"fill\":{\"color\":\"#EBF0F8\"},\"line\":{\"color\":\"white\"}},\"header\":{\"fill\":{\"color\":\"#C8D4E3\"},\"line\":{\"color\":\"white\"}},\"type\":\"table\"}]},\"layout\":{\"annotationdefaults\":{\"arrowcolor\":\"#2a3f5f\",\"arrowhead\":0,\"arrowwidth\":1},\"autotypenumbers\":\"strict\",\"coloraxis\":{\"colorbar\":{\"outlinewidth\":0,\"ticks\":\"\"}},\"colorscale\":{\"diverging\":[[0,\"#8e0152\"],[0.1,\"#c51b7d\"],[0.2,\"#de77ae\"],[0.3,\"#f1b6da\"],[0.4,\"#fde0ef\"],[0.5,\"#f7f7f7\"],[0.6,\"#e6f5d0\"],[0.7,\"#b8e186\"],[0.8,\"#7fbc41\"],[0.9,\"#4d9221\"],[1,\"#276419\"]],\"sequential\":[[0.0,\"#0d0887\"],[0.1111111111111111,\"#46039f\"],[0.2222222222222222,\"#7201a8\"],[0.3333333333333333,\"#9c179e\"],[0.4444444444444444,\"#bd3786\"],[0.5555555555555556,\"#d8576b\"],[0.6666666666666666,\"#ed7953\"],[0.7777777777777778,\"#fb9f3a\"],[0.8888888888888888,\"#fdca26\"],[1.0,\"#f0f921\"]],\"sequentialminus\":[[0.0,\"#0d0887\"],[0.1111111111111111,\"#46039f\"],[0.2222222222222222,\"#7201a8\"],[0.3333333333333333,\"#9c179e\"],[0.4444444444444444,\"#bd3786\"],[0.5555555555555556,\"#d8576b\"],[0.6666666666666666,\"#ed7953\"],[0.7777777777777778,\"#fb9f3a\"],[0.8888888888888888,\"#fdca26\"],[1.0,\"#f0f921\"]]},\"colorway\":[\"#636efa\",\"#EF553B\",\"#00cc96\",\"#ab63fa\",\"#FFA15A\",\"#19d3f3\",\"#FF6692\",\"#B6E880\",\"#FF97FF\",\"#FECB52\"],\"font\":{\"color\":\"#2a3f5f\"},\"geo\":{\"bgcolor\":\"white\",\"lakecolor\":\"white\",\"landcolor\":\"#E5ECF6\",\"showlakes\":true,\"showland\":true,\"subunitcolor\":\"white\"},\"hoverlabel\":{\"align\":\"left\"},\"hovermode\":\"closest\",\"mapbox\":{\"style\":\"light\"},\"paper_bgcolor\":\"white\",\"plot_bgcolor\":\"#E5ECF6\",\"polar\":{\"angularaxis\":{\"gridcolor\":\"white\",\"linecolor\":\"white\",\"ticks\":\"\"},\"bgcolor\":\"#E5ECF6\",\"radialaxis\":{\"gridcolor\":\"white\",\"linecolor\":\"white\",\"ticks\":\"\"}},\"scene\":{\"xaxis\":{\"backgroundcolor\":\"#E5ECF6\",\"gridcolor\":\"white\",\"gridwidth\":2,\"linecolor\":\"white\",\"showbackground\":true,\"ticks\":\"\",\"zerolinecolor\":\"white\"},\"yaxis\":{\"backgroundcolor\":\"#E5ECF6\",\"gridcolor\":\"white\",\"gridwidth\":2,\"linecolor\":\"white\",\"showbackground\":true,\"ticks\":\"\",\"zerolinecolor\":\"white\"},\"zaxis\":{\"backgroundcolor\":\"#E5ECF6\",\"gridcolor\":\"white\",\"gridwidth\":2,\"linecolor\":\"white\",\"showbackground\":true,\"ticks\":\"\",\"zerolinecolor\":\"white\"}},\"shapedefaults\":{\"line\":{\"color\":\"#2a3f5f\"}},\"ternary\":{\"aaxis\":{\"gridcolor\":\"white\",\"linecolor\":\"white\",\"ticks\":\"\"},\"baxis\":{\"gridcolor\":\"white\",\"linecolor\":\"white\",\"ticks\":\"\"},\"bgcolor\":\"#E5ECF6\",\"caxis\":{\"gridcolor\":\"white\",\"linecolor\":\"white\",\"ticks\":\"\"}},\"title\":{\"x\":0.05},\"xaxis\":{\"automargin\":true,\"gridcolor\":\"white\",\"linecolor\":\"white\",\"ticks\":\"\",\"title\":{\"standoff\":15},\"zerolinecolor\":\"white\",\"zerolinewidth\":2},\"yaxis\":{\"automargin\":true,\"gridcolor\":\"white\",\"linecolor\":\"white\",\"ticks\":\"\",\"title\":{\"standoff\":15},\"zerolinecolor\":\"white\",\"zerolinewidth\":2}}},\"xaxis\":{\"anchor\":\"y\",\"domain\":[0.0,1.0],\"title\":{\"text\":\"Emotion Count\"}},\"yaxis\":{\"anchor\":\"x\",\"domain\":[0.0,1.0],\"title\":{\"text\":\"Emotion Classification\"},\"categoryorder\":\"array\",\"categoryarray\":[\"disgust\",\"fear\",\"anger\",\"sadness\",\"surprise\",\"negative\",\"anticipation\",\"joy\",\"trust\",\"positive\"]},\"legend\":{\"title\":{\"text\":\"Emotion Classification\"},\"tracegroupgap\":0},\"margin\":{\"t\":60},\"barmode\":\"relative\",\"height\":400,\"width\":800},                        {\"responsive\": true}                    ).then(function(){\n",
       "                            \n",
       "var gd = document.getElementById('7be48a74-cf01-4ae4-8768-ce06609c9e0c');\n",
       "var x = new MutationObserver(function (mutations, observer) {{\n",
       "        var display = window.getComputedStyle(gd).display;\n",
       "        if (!display || display === 'none') {{\n",
       "            console.log([gd, 'removed!']);\n",
       "            Plotly.purge(gd);\n",
       "            observer.disconnect();\n",
       "        }}\n",
       "}});\n",
       "\n",
       "// Listen for the removal of the full notebook cells\n",
       "var notebookContainer = gd.closest('#notebook-container');\n",
       "if (notebookContainer) {{\n",
       "    x.observe(notebookContainer, {childList: true});\n",
       "}}\n",
       "\n",
       "// Listen for the clearing of the current output cell\n",
       "var outputEl = gd.closest('.output');\n",
       "if (outputEl) {{\n",
       "    x.observe(outputEl, {childList: true});\n",
       "}}\n",
       "\n",
       "                        })                };                });            </script>        </div>"
      ]
     },
     "metadata": {},
     "output_type": "display_data"
    }
   ],
   "source": [
    "emotion_df = pd.DataFrame.from_dict(data, orient='index')\n",
    "emotion_df = emotion_df.reset_index()\n",
    "emotion_df = emotion_df.rename(columns={'index' : 'Emotion Classification' , 0: 'Emotion Count'})\n",
    "emotion_df = emotion_df.sort_values(by=['Emotion Count'], ascending=False)\n",
    "import plotly.express as px\n",
    "fig = px.bar(emotion_df, x='Emotion Count', y='Emotion Classification', color = 'Emotion Classification', orientation='h', width = 800, height = 400)\n",
    "fig.show()"
   ]
  },
  {
   "cell_type": "code",
   "execution_count": 35,
   "id": "93e08647",
   "metadata": {},
   "outputs": [
    {
     "name": "stderr",
     "output_type": "stream",
     "text": [
      "C:\\Users\\Dinesh\\anaconda3\\lib\\site-packages\\ipykernel\\ipkernel.py:287: DeprecationWarning:\n",
      "\n",
      "`should_run_async` will not call `transform_cell` automatically in the future. Please pass the result to `transformed_cell` argument and any exception that happen during thetransform in `preprocessing_exc_tuple` in IPython 7.17 and above.\n",
      "\n"
     ]
    }
   ],
   "source": [
    "n1 = text_object.affect_frequencies"
   ]
  },
  {
   "cell_type": "code",
   "execution_count": 36,
   "id": "60991df2",
   "metadata": {},
   "outputs": [
    {
     "name": "stderr",
     "output_type": "stream",
     "text": [
      "C:\\Users\\Dinesh\\anaconda3\\lib\\site-packages\\ipykernel\\ipkernel.py:287: DeprecationWarning:\n",
      "\n",
      "`should_run_async` will not call `transform_cell` automatically in the future. Please pass the result to `transformed_cell` argument and any exception that happen during thetransform in `preprocessing_exc_tuple` in IPython 7.17 and above.\n",
      "\n"
     ]
    },
    {
     "data": {
      "text/plain": [
       "{'fear': 0.021626984126984126,\n",
       " 'anger': 0.025793650793650792,\n",
       " 'anticip': 0.0,\n",
       " 'trust': 0.1736111111111111,\n",
       " 'surprise': 0.06111111111111111,\n",
       " 'positive': 0.30912698412698414,\n",
       " 'negative': 0.07103174603174603,\n",
       " 'sadness': 0.038492063492063494,\n",
       " 'disgust': 0.01746031746031746,\n",
       " 'joy': 0.1632936507936508,\n",
       " 'anticipation': 0.11845238095238095}"
      ]
     },
     "execution_count": 36,
     "metadata": {},
     "output_type": "execute_result"
    }
   ],
   "source": [
    "n1"
   ]
  },
  {
   "cell_type": "code",
   "execution_count": 37,
   "id": "5b20a71a",
   "metadata": {},
   "outputs": [
    {
     "name": "stderr",
     "output_type": "stream",
     "text": [
      "C:\\Users\\Dinesh\\anaconda3\\lib\\site-packages\\ipykernel\\ipkernel.py:287: DeprecationWarning:\n",
      "\n",
      "`should_run_async` will not call `transform_cell` automatically in the future. Please pass the result to `transformed_cell` argument and any exception that happen during thetransform in `preprocessing_exc_tuple` in IPython 7.17 and above.\n",
      "\n"
     ]
    },
    {
     "data": {
      "text/plain": [
       "dict"
      ]
     },
     "execution_count": 37,
     "metadata": {},
     "output_type": "execute_result"
    }
   ],
   "source": [
    "type(n1)"
   ]
  },
  {
   "cell_type": "code",
   "execution_count": 38,
   "id": "65f7d73a",
   "metadata": {},
   "outputs": [
    {
     "name": "stderr",
     "output_type": "stream",
     "text": [
      "C:\\Users\\Dinesh\\anaconda3\\lib\\site-packages\\ipykernel\\ipkernel.py:287: DeprecationWarning:\n",
      "\n",
      "`should_run_async` will not call `transform_cell` automatically in the future. Please pass the result to `transformed_cell` argument and any exception that happen during thetransform in `preprocessing_exc_tuple` in IPython 7.17 and above.\n",
      "\n"
     ]
    },
    {
     "data": {
      "application/vnd.plotly.v1+json": {
       "config": {
        "plotlyServerURL": "https://plot.ly"
       },
       "data": [
        {
         "alignmentgroup": "True",
         "hovertemplate": "Emotion Freq=%{marker.color}<br>Emotion Classification=%{y}<extra></extra>",
         "legendgroup": "",
         "marker": {
          "color": [
           0.30912698412698414,
           0.1736111111111111,
           0.1632936507936508,
           0.11845238095238095,
           0.07103174603174603,
           0.06111111111111111,
           0.038492063492063494,
           0.025793650793650792,
           0.021626984126984126,
           0.01746031746031746,
           0
          ],
          "coloraxis": "coloraxis",
          "pattern": {
           "shape": ""
          }
         },
         "name": "",
         "offsetgroup": "",
         "orientation": "h",
         "showlegend": false,
         "textposition": "auto",
         "type": "bar",
         "x": [
          0.30912698412698414,
          0.1736111111111111,
          0.1632936507936508,
          0.11845238095238095,
          0.07103174603174603,
          0.06111111111111111,
          0.038492063492063494,
          0.025793650793650792,
          0.021626984126984126,
          0.01746031746031746,
          0
         ],
         "xaxis": "x",
         "y": [
          "positive",
          "trust",
          "joy",
          "anticipation",
          "negative",
          "surprise",
          "sadness",
          "anger",
          "fear",
          "disgust",
          "anticip"
         ],
         "yaxis": "y"
        }
       ],
       "layout": {
        "barmode": "relative",
        "coloraxis": {
         "colorbar": {
          "title": {
           "text": "Emotion Freq"
          }
         },
         "colorscale": [
          [
           0,
           "rgb(255,0,0)"
          ],
          [
           1,
           "rgb(0,0,255)"
          ]
         ]
        },
        "height": 400,
        "legend": {
         "tracegroupgap": 0
        },
        "margin": {
         "t": 60
        },
        "template": {
         "data": {
          "bar": [
           {
            "error_x": {
             "color": "#2a3f5f"
            },
            "error_y": {
             "color": "#2a3f5f"
            },
            "marker": {
             "line": {
              "color": "#E5ECF6",
              "width": 0.5
             },
             "pattern": {
              "fillmode": "overlay",
              "size": 10,
              "solidity": 0.2
             }
            },
            "type": "bar"
           }
          ],
          "barpolar": [
           {
            "marker": {
             "line": {
              "color": "#E5ECF6",
              "width": 0.5
             },
             "pattern": {
              "fillmode": "overlay",
              "size": 10,
              "solidity": 0.2
             }
            },
            "type": "barpolar"
           }
          ],
          "carpet": [
           {
            "aaxis": {
             "endlinecolor": "#2a3f5f",
             "gridcolor": "white",
             "linecolor": "white",
             "minorgridcolor": "white",
             "startlinecolor": "#2a3f5f"
            },
            "baxis": {
             "endlinecolor": "#2a3f5f",
             "gridcolor": "white",
             "linecolor": "white",
             "minorgridcolor": "white",
             "startlinecolor": "#2a3f5f"
            },
            "type": "carpet"
           }
          ],
          "choropleth": [
           {
            "colorbar": {
             "outlinewidth": 0,
             "ticks": ""
            },
            "type": "choropleth"
           }
          ],
          "contour": [
           {
            "colorbar": {
             "outlinewidth": 0,
             "ticks": ""
            },
            "colorscale": [
             [
              0,
              "#0d0887"
             ],
             [
              0.1111111111111111,
              "#46039f"
             ],
             [
              0.2222222222222222,
              "#7201a8"
             ],
             [
              0.3333333333333333,
              "#9c179e"
             ],
             [
              0.4444444444444444,
              "#bd3786"
             ],
             [
              0.5555555555555556,
              "#d8576b"
             ],
             [
              0.6666666666666666,
              "#ed7953"
             ],
             [
              0.7777777777777778,
              "#fb9f3a"
             ],
             [
              0.8888888888888888,
              "#fdca26"
             ],
             [
              1,
              "#f0f921"
             ]
            ],
            "type": "contour"
           }
          ],
          "contourcarpet": [
           {
            "colorbar": {
             "outlinewidth": 0,
             "ticks": ""
            },
            "type": "contourcarpet"
           }
          ],
          "heatmap": [
           {
            "colorbar": {
             "outlinewidth": 0,
             "ticks": ""
            },
            "colorscale": [
             [
              0,
              "#0d0887"
             ],
             [
              0.1111111111111111,
              "#46039f"
             ],
             [
              0.2222222222222222,
              "#7201a8"
             ],
             [
              0.3333333333333333,
              "#9c179e"
             ],
             [
              0.4444444444444444,
              "#bd3786"
             ],
             [
              0.5555555555555556,
              "#d8576b"
             ],
             [
              0.6666666666666666,
              "#ed7953"
             ],
             [
              0.7777777777777778,
              "#fb9f3a"
             ],
             [
              0.8888888888888888,
              "#fdca26"
             ],
             [
              1,
              "#f0f921"
             ]
            ],
            "type": "heatmap"
           }
          ],
          "heatmapgl": [
           {
            "colorbar": {
             "outlinewidth": 0,
             "ticks": ""
            },
            "colorscale": [
             [
              0,
              "#0d0887"
             ],
             [
              0.1111111111111111,
              "#46039f"
             ],
             [
              0.2222222222222222,
              "#7201a8"
             ],
             [
              0.3333333333333333,
              "#9c179e"
             ],
             [
              0.4444444444444444,
              "#bd3786"
             ],
             [
              0.5555555555555556,
              "#d8576b"
             ],
             [
              0.6666666666666666,
              "#ed7953"
             ],
             [
              0.7777777777777778,
              "#fb9f3a"
             ],
             [
              0.8888888888888888,
              "#fdca26"
             ],
             [
              1,
              "#f0f921"
             ]
            ],
            "type": "heatmapgl"
           }
          ],
          "histogram": [
           {
            "marker": {
             "pattern": {
              "fillmode": "overlay",
              "size": 10,
              "solidity": 0.2
             }
            },
            "type": "histogram"
           }
          ],
          "histogram2d": [
           {
            "colorbar": {
             "outlinewidth": 0,
             "ticks": ""
            },
            "colorscale": [
             [
              0,
              "#0d0887"
             ],
             [
              0.1111111111111111,
              "#46039f"
             ],
             [
              0.2222222222222222,
              "#7201a8"
             ],
             [
              0.3333333333333333,
              "#9c179e"
             ],
             [
              0.4444444444444444,
              "#bd3786"
             ],
             [
              0.5555555555555556,
              "#d8576b"
             ],
             [
              0.6666666666666666,
              "#ed7953"
             ],
             [
              0.7777777777777778,
              "#fb9f3a"
             ],
             [
              0.8888888888888888,
              "#fdca26"
             ],
             [
              1,
              "#f0f921"
             ]
            ],
            "type": "histogram2d"
           }
          ],
          "histogram2dcontour": [
           {
            "colorbar": {
             "outlinewidth": 0,
             "ticks": ""
            },
            "colorscale": [
             [
              0,
              "#0d0887"
             ],
             [
              0.1111111111111111,
              "#46039f"
             ],
             [
              0.2222222222222222,
              "#7201a8"
             ],
             [
              0.3333333333333333,
              "#9c179e"
             ],
             [
              0.4444444444444444,
              "#bd3786"
             ],
             [
              0.5555555555555556,
              "#d8576b"
             ],
             [
              0.6666666666666666,
              "#ed7953"
             ],
             [
              0.7777777777777778,
              "#fb9f3a"
             ],
             [
              0.8888888888888888,
              "#fdca26"
             ],
             [
              1,
              "#f0f921"
             ]
            ],
            "type": "histogram2dcontour"
           }
          ],
          "mesh3d": [
           {
            "colorbar": {
             "outlinewidth": 0,
             "ticks": ""
            },
            "type": "mesh3d"
           }
          ],
          "parcoords": [
           {
            "line": {
             "colorbar": {
              "outlinewidth": 0,
              "ticks": ""
             }
            },
            "type": "parcoords"
           }
          ],
          "pie": [
           {
            "automargin": true,
            "type": "pie"
           }
          ],
          "scatter": [
           {
            "marker": {
             "colorbar": {
              "outlinewidth": 0,
              "ticks": ""
             }
            },
            "type": "scatter"
           }
          ],
          "scatter3d": [
           {
            "line": {
             "colorbar": {
              "outlinewidth": 0,
              "ticks": ""
             }
            },
            "marker": {
             "colorbar": {
              "outlinewidth": 0,
              "ticks": ""
             }
            },
            "type": "scatter3d"
           }
          ],
          "scattercarpet": [
           {
            "marker": {
             "colorbar": {
              "outlinewidth": 0,
              "ticks": ""
             }
            },
            "type": "scattercarpet"
           }
          ],
          "scattergeo": [
           {
            "marker": {
             "colorbar": {
              "outlinewidth": 0,
              "ticks": ""
             }
            },
            "type": "scattergeo"
           }
          ],
          "scattergl": [
           {
            "marker": {
             "colorbar": {
              "outlinewidth": 0,
              "ticks": ""
             }
            },
            "type": "scattergl"
           }
          ],
          "scattermapbox": [
           {
            "marker": {
             "colorbar": {
              "outlinewidth": 0,
              "ticks": ""
             }
            },
            "type": "scattermapbox"
           }
          ],
          "scatterpolar": [
           {
            "marker": {
             "colorbar": {
              "outlinewidth": 0,
              "ticks": ""
             }
            },
            "type": "scatterpolar"
           }
          ],
          "scatterpolargl": [
           {
            "marker": {
             "colorbar": {
              "outlinewidth": 0,
              "ticks": ""
             }
            },
            "type": "scatterpolargl"
           }
          ],
          "scatterternary": [
           {
            "marker": {
             "colorbar": {
              "outlinewidth": 0,
              "ticks": ""
             }
            },
            "type": "scatterternary"
           }
          ],
          "surface": [
           {
            "colorbar": {
             "outlinewidth": 0,
             "ticks": ""
            },
            "colorscale": [
             [
              0,
              "#0d0887"
             ],
             [
              0.1111111111111111,
              "#46039f"
             ],
             [
              0.2222222222222222,
              "#7201a8"
             ],
             [
              0.3333333333333333,
              "#9c179e"
             ],
             [
              0.4444444444444444,
              "#bd3786"
             ],
             [
              0.5555555555555556,
              "#d8576b"
             ],
             [
              0.6666666666666666,
              "#ed7953"
             ],
             [
              0.7777777777777778,
              "#fb9f3a"
             ],
             [
              0.8888888888888888,
              "#fdca26"
             ],
             [
              1,
              "#f0f921"
             ]
            ],
            "type": "surface"
           }
          ],
          "table": [
           {
            "cells": {
             "fill": {
              "color": "#EBF0F8"
             },
             "line": {
              "color": "white"
             }
            },
            "header": {
             "fill": {
              "color": "#C8D4E3"
             },
             "line": {
              "color": "white"
             }
            },
            "type": "table"
           }
          ]
         },
         "layout": {
          "annotationdefaults": {
           "arrowcolor": "#2a3f5f",
           "arrowhead": 0,
           "arrowwidth": 1
          },
          "autotypenumbers": "strict",
          "coloraxis": {
           "colorbar": {
            "outlinewidth": 0,
            "ticks": ""
           }
          },
          "colorscale": {
           "diverging": [
            [
             0,
             "#8e0152"
            ],
            [
             0.1,
             "#c51b7d"
            ],
            [
             0.2,
             "#de77ae"
            ],
            [
             0.3,
             "#f1b6da"
            ],
            [
             0.4,
             "#fde0ef"
            ],
            [
             0.5,
             "#f7f7f7"
            ],
            [
             0.6,
             "#e6f5d0"
            ],
            [
             0.7,
             "#b8e186"
            ],
            [
             0.8,
             "#7fbc41"
            ],
            [
             0.9,
             "#4d9221"
            ],
            [
             1,
             "#276419"
            ]
           ],
           "sequential": [
            [
             0,
             "#0d0887"
            ],
            [
             0.1111111111111111,
             "#46039f"
            ],
            [
             0.2222222222222222,
             "#7201a8"
            ],
            [
             0.3333333333333333,
             "#9c179e"
            ],
            [
             0.4444444444444444,
             "#bd3786"
            ],
            [
             0.5555555555555556,
             "#d8576b"
            ],
            [
             0.6666666666666666,
             "#ed7953"
            ],
            [
             0.7777777777777778,
             "#fb9f3a"
            ],
            [
             0.8888888888888888,
             "#fdca26"
            ],
            [
             1,
             "#f0f921"
            ]
           ],
           "sequentialminus": [
            [
             0,
             "#0d0887"
            ],
            [
             0.1111111111111111,
             "#46039f"
            ],
            [
             0.2222222222222222,
             "#7201a8"
            ],
            [
             0.3333333333333333,
             "#9c179e"
            ],
            [
             0.4444444444444444,
             "#bd3786"
            ],
            [
             0.5555555555555556,
             "#d8576b"
            ],
            [
             0.6666666666666666,
             "#ed7953"
            ],
            [
             0.7777777777777778,
             "#fb9f3a"
            ],
            [
             0.8888888888888888,
             "#fdca26"
            ],
            [
             1,
             "#f0f921"
            ]
           ]
          },
          "colorway": [
           "#636efa",
           "#EF553B",
           "#00cc96",
           "#ab63fa",
           "#FFA15A",
           "#19d3f3",
           "#FF6692",
           "#B6E880",
           "#FF97FF",
           "#FECB52"
          ],
          "font": {
           "color": "#2a3f5f"
          },
          "geo": {
           "bgcolor": "white",
           "lakecolor": "white",
           "landcolor": "#E5ECF6",
           "showlakes": true,
           "showland": true,
           "subunitcolor": "white"
          },
          "hoverlabel": {
           "align": "left"
          },
          "hovermode": "closest",
          "mapbox": {
           "style": "light"
          },
          "paper_bgcolor": "white",
          "plot_bgcolor": "#E5ECF6",
          "polar": {
           "angularaxis": {
            "gridcolor": "white",
            "linecolor": "white",
            "ticks": ""
           },
           "bgcolor": "#E5ECF6",
           "radialaxis": {
            "gridcolor": "white",
            "linecolor": "white",
            "ticks": ""
           }
          },
          "scene": {
           "xaxis": {
            "backgroundcolor": "#E5ECF6",
            "gridcolor": "white",
            "gridwidth": 2,
            "linecolor": "white",
            "showbackground": true,
            "ticks": "",
            "zerolinecolor": "white"
           },
           "yaxis": {
            "backgroundcolor": "#E5ECF6",
            "gridcolor": "white",
            "gridwidth": 2,
            "linecolor": "white",
            "showbackground": true,
            "ticks": "",
            "zerolinecolor": "white"
           },
           "zaxis": {
            "backgroundcolor": "#E5ECF6",
            "gridcolor": "white",
            "gridwidth": 2,
            "linecolor": "white",
            "showbackground": true,
            "ticks": "",
            "zerolinecolor": "white"
           }
          },
          "shapedefaults": {
           "line": {
            "color": "#2a3f5f"
           }
          },
          "ternary": {
           "aaxis": {
            "gridcolor": "white",
            "linecolor": "white",
            "ticks": ""
           },
           "baxis": {
            "gridcolor": "white",
            "linecolor": "white",
            "ticks": ""
           },
           "bgcolor": "#E5ECF6",
           "caxis": {
            "gridcolor": "white",
            "linecolor": "white",
            "ticks": ""
           }
          },
          "title": {
           "x": 0.05
          },
          "xaxis": {
           "automargin": true,
           "gridcolor": "white",
           "linecolor": "white",
           "ticks": "",
           "title": {
            "standoff": 15
           },
           "zerolinecolor": "white",
           "zerolinewidth": 2
          },
          "yaxis": {
           "automargin": true,
           "gridcolor": "white",
           "linecolor": "white",
           "ticks": "",
           "title": {
            "standoff": 15
           },
           "zerolinecolor": "white",
           "zerolinewidth": 2
          }
         }
        },
        "width": 800,
        "xaxis": {
         "anchor": "y",
         "domain": [
          0,
          1
         ],
         "title": {
          "text": "Emotion Freq"
         }
        },
        "yaxis": {
         "anchor": "x",
         "domain": [
          0,
          1
         ],
         "title": {
          "text": "Emotion Classification"
         }
        }
       }
      },
      "text/html": [
       "<div>                            <div id=\"aa6a8ad2-e9df-456e-b337-51f6be5f6f09\" class=\"plotly-graph-div\" style=\"height:400px; width:800px;\"></div>            <script type=\"text/javascript\">                require([\"plotly\"], function(Plotly) {                    window.PLOTLYENV=window.PLOTLYENV || {};                                    if (document.getElementById(\"aa6a8ad2-e9df-456e-b337-51f6be5f6f09\")) {                    Plotly.newPlot(                        \"aa6a8ad2-e9df-456e-b337-51f6be5f6f09\",                        [{\"alignmentgroup\":\"True\",\"hovertemplate\":\"Emotion Freq=%{marker.color}<br>Emotion Classification=%{y}<extra></extra>\",\"legendgroup\":\"\",\"marker\":{\"color\":[0.30912698412698414,0.1736111111111111,0.1632936507936508,0.11845238095238095,0.07103174603174603,0.06111111111111111,0.038492063492063494,0.025793650793650792,0.021626984126984126,0.01746031746031746,0.0],\"coloraxis\":\"coloraxis\",\"pattern\":{\"shape\":\"\"}},\"name\":\"\",\"offsetgroup\":\"\",\"orientation\":\"h\",\"showlegend\":false,\"textposition\":\"auto\",\"x\":[0.30912698412698414,0.1736111111111111,0.1632936507936508,0.11845238095238095,0.07103174603174603,0.06111111111111111,0.038492063492063494,0.025793650793650792,0.021626984126984126,0.01746031746031746,0.0],\"xaxis\":\"x\",\"y\":[\"positive\",\"trust\",\"joy\",\"anticipation\",\"negative\",\"surprise\",\"sadness\",\"anger\",\"fear\",\"disgust\",\"anticip\"],\"yaxis\":\"y\",\"type\":\"bar\"}],                        {\"template\":{\"data\":{\"bar\":[{\"error_x\":{\"color\":\"#2a3f5f\"},\"error_y\":{\"color\":\"#2a3f5f\"},\"marker\":{\"line\":{\"color\":\"#E5ECF6\",\"width\":0.5},\"pattern\":{\"fillmode\":\"overlay\",\"size\":10,\"solidity\":0.2}},\"type\":\"bar\"}],\"barpolar\":[{\"marker\":{\"line\":{\"color\":\"#E5ECF6\",\"width\":0.5},\"pattern\":{\"fillmode\":\"overlay\",\"size\":10,\"solidity\":0.2}},\"type\":\"barpolar\"}],\"carpet\":[{\"aaxis\":{\"endlinecolor\":\"#2a3f5f\",\"gridcolor\":\"white\",\"linecolor\":\"white\",\"minorgridcolor\":\"white\",\"startlinecolor\":\"#2a3f5f\"},\"baxis\":{\"endlinecolor\":\"#2a3f5f\",\"gridcolor\":\"white\",\"linecolor\":\"white\",\"minorgridcolor\":\"white\",\"startlinecolor\":\"#2a3f5f\"},\"type\":\"carpet\"}],\"choropleth\":[{\"colorbar\":{\"outlinewidth\":0,\"ticks\":\"\"},\"type\":\"choropleth\"}],\"contour\":[{\"colorbar\":{\"outlinewidth\":0,\"ticks\":\"\"},\"colorscale\":[[0.0,\"#0d0887\"],[0.1111111111111111,\"#46039f\"],[0.2222222222222222,\"#7201a8\"],[0.3333333333333333,\"#9c179e\"],[0.4444444444444444,\"#bd3786\"],[0.5555555555555556,\"#d8576b\"],[0.6666666666666666,\"#ed7953\"],[0.7777777777777778,\"#fb9f3a\"],[0.8888888888888888,\"#fdca26\"],[1.0,\"#f0f921\"]],\"type\":\"contour\"}],\"contourcarpet\":[{\"colorbar\":{\"outlinewidth\":0,\"ticks\":\"\"},\"type\":\"contourcarpet\"}],\"heatmap\":[{\"colorbar\":{\"outlinewidth\":0,\"ticks\":\"\"},\"colorscale\":[[0.0,\"#0d0887\"],[0.1111111111111111,\"#46039f\"],[0.2222222222222222,\"#7201a8\"],[0.3333333333333333,\"#9c179e\"],[0.4444444444444444,\"#bd3786\"],[0.5555555555555556,\"#d8576b\"],[0.6666666666666666,\"#ed7953\"],[0.7777777777777778,\"#fb9f3a\"],[0.8888888888888888,\"#fdca26\"],[1.0,\"#f0f921\"]],\"type\":\"heatmap\"}],\"heatmapgl\":[{\"colorbar\":{\"outlinewidth\":0,\"ticks\":\"\"},\"colorscale\":[[0.0,\"#0d0887\"],[0.1111111111111111,\"#46039f\"],[0.2222222222222222,\"#7201a8\"],[0.3333333333333333,\"#9c179e\"],[0.4444444444444444,\"#bd3786\"],[0.5555555555555556,\"#d8576b\"],[0.6666666666666666,\"#ed7953\"],[0.7777777777777778,\"#fb9f3a\"],[0.8888888888888888,\"#fdca26\"],[1.0,\"#f0f921\"]],\"type\":\"heatmapgl\"}],\"histogram\":[{\"marker\":{\"pattern\":{\"fillmode\":\"overlay\",\"size\":10,\"solidity\":0.2}},\"type\":\"histogram\"}],\"histogram2d\":[{\"colorbar\":{\"outlinewidth\":0,\"ticks\":\"\"},\"colorscale\":[[0.0,\"#0d0887\"],[0.1111111111111111,\"#46039f\"],[0.2222222222222222,\"#7201a8\"],[0.3333333333333333,\"#9c179e\"],[0.4444444444444444,\"#bd3786\"],[0.5555555555555556,\"#d8576b\"],[0.6666666666666666,\"#ed7953\"],[0.7777777777777778,\"#fb9f3a\"],[0.8888888888888888,\"#fdca26\"],[1.0,\"#f0f921\"]],\"type\":\"histogram2d\"}],\"histogram2dcontour\":[{\"colorbar\":{\"outlinewidth\":0,\"ticks\":\"\"},\"colorscale\":[[0.0,\"#0d0887\"],[0.1111111111111111,\"#46039f\"],[0.2222222222222222,\"#7201a8\"],[0.3333333333333333,\"#9c179e\"],[0.4444444444444444,\"#bd3786\"],[0.5555555555555556,\"#d8576b\"],[0.6666666666666666,\"#ed7953\"],[0.7777777777777778,\"#fb9f3a\"],[0.8888888888888888,\"#fdca26\"],[1.0,\"#f0f921\"]],\"type\":\"histogram2dcontour\"}],\"mesh3d\":[{\"colorbar\":{\"outlinewidth\":0,\"ticks\":\"\"},\"type\":\"mesh3d\"}],\"parcoords\":[{\"line\":{\"colorbar\":{\"outlinewidth\":0,\"ticks\":\"\"}},\"type\":\"parcoords\"}],\"pie\":[{\"automargin\":true,\"type\":\"pie\"}],\"scatter\":[{\"marker\":{\"colorbar\":{\"outlinewidth\":0,\"ticks\":\"\"}},\"type\":\"scatter\"}],\"scatter3d\":[{\"line\":{\"colorbar\":{\"outlinewidth\":0,\"ticks\":\"\"}},\"marker\":{\"colorbar\":{\"outlinewidth\":0,\"ticks\":\"\"}},\"type\":\"scatter3d\"}],\"scattercarpet\":[{\"marker\":{\"colorbar\":{\"outlinewidth\":0,\"ticks\":\"\"}},\"type\":\"scattercarpet\"}],\"scattergeo\":[{\"marker\":{\"colorbar\":{\"outlinewidth\":0,\"ticks\":\"\"}},\"type\":\"scattergeo\"}],\"scattergl\":[{\"marker\":{\"colorbar\":{\"outlinewidth\":0,\"ticks\":\"\"}},\"type\":\"scattergl\"}],\"scattermapbox\":[{\"marker\":{\"colorbar\":{\"outlinewidth\":0,\"ticks\":\"\"}},\"type\":\"scattermapbox\"}],\"scatterpolar\":[{\"marker\":{\"colorbar\":{\"outlinewidth\":0,\"ticks\":\"\"}},\"type\":\"scatterpolar\"}],\"scatterpolargl\":[{\"marker\":{\"colorbar\":{\"outlinewidth\":0,\"ticks\":\"\"}},\"type\":\"scatterpolargl\"}],\"scatterternary\":[{\"marker\":{\"colorbar\":{\"outlinewidth\":0,\"ticks\":\"\"}},\"type\":\"scatterternary\"}],\"surface\":[{\"colorbar\":{\"outlinewidth\":0,\"ticks\":\"\"},\"colorscale\":[[0.0,\"#0d0887\"],[0.1111111111111111,\"#46039f\"],[0.2222222222222222,\"#7201a8\"],[0.3333333333333333,\"#9c179e\"],[0.4444444444444444,\"#bd3786\"],[0.5555555555555556,\"#d8576b\"],[0.6666666666666666,\"#ed7953\"],[0.7777777777777778,\"#fb9f3a\"],[0.8888888888888888,\"#fdca26\"],[1.0,\"#f0f921\"]],\"type\":\"surface\"}],\"table\":[{\"cells\":{\"fill\":{\"color\":\"#EBF0F8\"},\"line\":{\"color\":\"white\"}},\"header\":{\"fill\":{\"color\":\"#C8D4E3\"},\"line\":{\"color\":\"white\"}},\"type\":\"table\"}]},\"layout\":{\"annotationdefaults\":{\"arrowcolor\":\"#2a3f5f\",\"arrowhead\":0,\"arrowwidth\":1},\"autotypenumbers\":\"strict\",\"coloraxis\":{\"colorbar\":{\"outlinewidth\":0,\"ticks\":\"\"}},\"colorscale\":{\"diverging\":[[0,\"#8e0152\"],[0.1,\"#c51b7d\"],[0.2,\"#de77ae\"],[0.3,\"#f1b6da\"],[0.4,\"#fde0ef\"],[0.5,\"#f7f7f7\"],[0.6,\"#e6f5d0\"],[0.7,\"#b8e186\"],[0.8,\"#7fbc41\"],[0.9,\"#4d9221\"],[1,\"#276419\"]],\"sequential\":[[0.0,\"#0d0887\"],[0.1111111111111111,\"#46039f\"],[0.2222222222222222,\"#7201a8\"],[0.3333333333333333,\"#9c179e\"],[0.4444444444444444,\"#bd3786\"],[0.5555555555555556,\"#d8576b\"],[0.6666666666666666,\"#ed7953\"],[0.7777777777777778,\"#fb9f3a\"],[0.8888888888888888,\"#fdca26\"],[1.0,\"#f0f921\"]],\"sequentialminus\":[[0.0,\"#0d0887\"],[0.1111111111111111,\"#46039f\"],[0.2222222222222222,\"#7201a8\"],[0.3333333333333333,\"#9c179e\"],[0.4444444444444444,\"#bd3786\"],[0.5555555555555556,\"#d8576b\"],[0.6666666666666666,\"#ed7953\"],[0.7777777777777778,\"#fb9f3a\"],[0.8888888888888888,\"#fdca26\"],[1.0,\"#f0f921\"]]},\"colorway\":[\"#636efa\",\"#EF553B\",\"#00cc96\",\"#ab63fa\",\"#FFA15A\",\"#19d3f3\",\"#FF6692\",\"#B6E880\",\"#FF97FF\",\"#FECB52\"],\"font\":{\"color\":\"#2a3f5f\"},\"geo\":{\"bgcolor\":\"white\",\"lakecolor\":\"white\",\"landcolor\":\"#E5ECF6\",\"showlakes\":true,\"showland\":true,\"subunitcolor\":\"white\"},\"hoverlabel\":{\"align\":\"left\"},\"hovermode\":\"closest\",\"mapbox\":{\"style\":\"light\"},\"paper_bgcolor\":\"white\",\"plot_bgcolor\":\"#E5ECF6\",\"polar\":{\"angularaxis\":{\"gridcolor\":\"white\",\"linecolor\":\"white\",\"ticks\":\"\"},\"bgcolor\":\"#E5ECF6\",\"radialaxis\":{\"gridcolor\":\"white\",\"linecolor\":\"white\",\"ticks\":\"\"}},\"scene\":{\"xaxis\":{\"backgroundcolor\":\"#E5ECF6\",\"gridcolor\":\"white\",\"gridwidth\":2,\"linecolor\":\"white\",\"showbackground\":true,\"ticks\":\"\",\"zerolinecolor\":\"white\"},\"yaxis\":{\"backgroundcolor\":\"#E5ECF6\",\"gridcolor\":\"white\",\"gridwidth\":2,\"linecolor\":\"white\",\"showbackground\":true,\"ticks\":\"\",\"zerolinecolor\":\"white\"},\"zaxis\":{\"backgroundcolor\":\"#E5ECF6\",\"gridcolor\":\"white\",\"gridwidth\":2,\"linecolor\":\"white\",\"showbackground\":true,\"ticks\":\"\",\"zerolinecolor\":\"white\"}},\"shapedefaults\":{\"line\":{\"color\":\"#2a3f5f\"}},\"ternary\":{\"aaxis\":{\"gridcolor\":\"white\",\"linecolor\":\"white\",\"ticks\":\"\"},\"baxis\":{\"gridcolor\":\"white\",\"linecolor\":\"white\",\"ticks\":\"\"},\"bgcolor\":\"#E5ECF6\",\"caxis\":{\"gridcolor\":\"white\",\"linecolor\":\"white\",\"ticks\":\"\"}},\"title\":{\"x\":0.05},\"xaxis\":{\"automargin\":true,\"gridcolor\":\"white\",\"linecolor\":\"white\",\"ticks\":\"\",\"title\":{\"standoff\":15},\"zerolinecolor\":\"white\",\"zerolinewidth\":2},\"yaxis\":{\"automargin\":true,\"gridcolor\":\"white\",\"linecolor\":\"white\",\"ticks\":\"\",\"title\":{\"standoff\":15},\"zerolinecolor\":\"white\",\"zerolinewidth\":2}}},\"xaxis\":{\"anchor\":\"y\",\"domain\":[0.0,1.0],\"title\":{\"text\":\"Emotion Freq\"}},\"yaxis\":{\"anchor\":\"x\",\"domain\":[0.0,1.0],\"title\":{\"text\":\"Emotion Classification\"}},\"coloraxis\":{\"colorbar\":{\"title\":{\"text\":\"Emotion Freq\"}},\"colorscale\":[[0.0,\"rgb(255,0,0)\"],[1.0,\"rgb(0,0,255)\"]]},\"legend\":{\"tracegroupgap\":0},\"margin\":{\"t\":60},\"barmode\":\"relative\",\"height\":400,\"width\":800},                        {\"responsive\": true}                    ).then(function(){\n",
       "                            \n",
       "var gd = document.getElementById('aa6a8ad2-e9df-456e-b337-51f6be5f6f09');\n",
       "var x = new MutationObserver(function (mutations, observer) {{\n",
       "        var display = window.getComputedStyle(gd).display;\n",
       "        if (!display || display === 'none') {{\n",
       "            console.log([gd, 'removed!']);\n",
       "            Plotly.purge(gd);\n",
       "            observer.disconnect();\n",
       "        }}\n",
       "}});\n",
       "\n",
       "// Listen for the removal of the full notebook cells\n",
       "var notebookContainer = gd.closest('#notebook-container');\n",
       "if (notebookContainer) {{\n",
       "    x.observe(notebookContainer, {childList: true});\n",
       "}}\n",
       "\n",
       "// Listen for the clearing of the current output cell\n",
       "var outputEl = gd.closest('.output');\n",
       "if (outputEl) {{\n",
       "    x.observe(outputEl, {childList: true});\n",
       "}}\n",
       "\n",
       "                        })                };                });            </script>        </div>"
      ]
     },
     "metadata": {},
     "output_type": "display_data"
    }
   ],
   "source": [
    "emotion_df = pd.DataFrame.from_dict(n1, orient='index')\n",
    "emotion_df = emotion_df.reset_index()\n",
    "emotion_df = emotion_df.rename(columns={'index' : 'Emotion Classification' , 0: 'Emotion Freq'})\n",
    "emotion_df = emotion_df.sort_values(by=['Emotion Freq'], ascending=False)\n",
    "import plotly.express as px\n",
    "fig = px.bar(emotion_df, x='Emotion Freq', y='Emotion Classification', color = 'Emotion Freq', orientation='h',color_continuous_scale='Bluered_r', width = 800, height = 400)\n",
    "fig.show()"
   ]
  },
  {
   "cell_type": "markdown",
   "id": "0381c28b",
   "metadata": {},
   "source": [
    "## N-gram Implementation"
   ]
  },
  {
   "cell_type": "code",
   "execution_count": 39,
   "id": "f077730c",
   "metadata": {},
   "outputs": [
    {
     "name": "stderr",
     "output_type": "stream",
     "text": [
      "C:\\Users\\Dinesh\\anaconda3\\lib\\site-packages\\ipykernel\\ipkernel.py:287: DeprecationWarning:\n",
      "\n",
      "`should_run_async` will not call `transform_cell` automatically in the future. Please pass the result to `transformed_cell` argument and any exception that happen during thetransform in `preprocessing_exc_tuple` in IPython 7.17 and above.\n",
      "\n"
     ]
    }
   ],
   "source": [
    "import re\n",
    "import unicodedata\n",
    "import nltk\n",
    "from nltk.corpus import stopwords"
   ]
  },
  {
   "cell_type": "code",
   "execution_count": 40,
   "id": "4543e559",
   "metadata": {},
   "outputs": [
    {
     "name": "stderr",
     "output_type": "stream",
     "text": [
      "C:\\Users\\Dinesh\\anaconda3\\lib\\site-packages\\ipykernel\\ipkernel.py:287: DeprecationWarning:\n",
      "\n",
      "`should_run_async` will not call `transform_cell` automatically in the future. Please pass the result to `transformed_cell` argument and any exception that happen during thetransform in `preprocessing_exc_tuple` in IPython 7.17 and above.\n",
      "\n"
     ]
    }
   ],
   "source": [
    "### Text cleaning\n",
    "def quick_clean(text):\n",
    "  lemma = nltk.stem.WordNetLemmatizer()\n",
    "  stopwords = nltk.corpus.stopwords.words('english')\n",
    "  text = (unicodedata.normalize('NFKD', text)\n",
    "    .encode('ascii', 'ignore')\n",
    "    .decode('utf-8', 'ignore')\n",
    "    .lower())\n",
    "  words = re.sub(r'[^\\w\\s]', '', text).split()\n",
    "  return [lemma.lemmatize(word) for word in words if word not in stopwords]"
   ]
  },
  {
   "cell_type": "code",
   "execution_count": 41,
   "id": "423bc059",
   "metadata": {},
   "outputs": [
    {
     "name": "stderr",
     "output_type": "stream",
     "text": [
      "C:\\Users\\Dinesh\\anaconda3\\lib\\site-packages\\ipykernel\\ipkernel.py:287: DeprecationWarning:\n",
      "\n",
      "`should_run_async` will not call `transform_cell` automatically in the future. Please pass the result to `transformed_cell` argument and any exception that happen during thetransform in `preprocessing_exc_tuple` in IPython 7.17 and above.\n",
      "\n"
     ]
    }
   ],
   "source": [
    "words = quick_clean(''.join(str(df['text'].tolist())))"
   ]
  },
  {
   "cell_type": "code",
   "execution_count": 42,
   "id": "77b8d1a8",
   "metadata": {},
   "outputs": [
    {
     "name": "stderr",
     "output_type": "stream",
     "text": [
      "C:\\Users\\Dinesh\\anaconda3\\lib\\site-packages\\ipykernel\\ipkernel.py:287: DeprecationWarning:\n",
      "\n",
      "`should_run_async` will not call `transform_cell` automatically in the future. Please pass the result to `transformed_cell` argument and any exception that happen during thetransform in `preprocessing_exc_tuple` in IPython 7.17 and above.\n",
      "\n"
     ]
    },
    {
     "data": {
      "text/plain": [
       "['travel',\n",
       " 'alot',\n",
       " 'really',\n",
       " 'enjoyed',\n",
       " 'stay',\n",
       " 'hotel',\n",
       " 'clean',\n",
       " 'staff',\n",
       " 'professional',\n",
       " 'took']"
      ]
     },
     "execution_count": 42,
     "metadata": {},
     "output_type": "execute_result"
    }
   ],
   "source": [
    "words[:10]"
   ]
  },
  {
   "cell_type": "code",
   "execution_count": 43,
   "id": "e0111243",
   "metadata": {},
   "outputs": [
    {
     "name": "stderr",
     "output_type": "stream",
     "text": [
      "C:\\Users\\Dinesh\\anaconda3\\lib\\site-packages\\ipykernel\\ipkernel.py:287: DeprecationWarning:\n",
      "\n",
      "`should_run_async` will not call `transform_cell` automatically in the future. Please pass the result to `transformed_cell` argument and any exception that happen during thetransform in `preprocessing_exc_tuple` in IPython 7.17 and above.\n",
      "\n"
     ]
    },
    {
     "data": {
      "text/plain": [
       "(front, desk)           30\n",
       "(san, carlos)           30\n",
       "(new, york)             30\n",
       "(staff, friendly)       19\n",
       "(central, park)         18\n",
       "(room, clean)           17\n",
       "(walking, distance)     17\n",
       "(free, breakfast)       15\n",
       "(hotel, staff)          15\n",
       "(clean, comfortable)    13\n",
       "dtype: int64"
      ]
     },
     "execution_count": 43,
     "metadata": {},
     "output_type": "execute_result"
    }
   ],
   "source": [
    "(pd.Series(nltk.ngrams(words, 2)).value_counts())[:10]"
   ]
  },
  {
   "cell_type": "code",
   "execution_count": 44,
   "id": "d3aedf23",
   "metadata": {},
   "outputs": [
    {
     "name": "stderr",
     "output_type": "stream",
     "text": [
      "C:\\Users\\Dinesh\\anaconda3\\lib\\site-packages\\ipykernel\\ipkernel.py:287: DeprecationWarning:\n",
      "\n",
      "`should_run_async` will not call `transform_cell` automatically in the future. Please pass the result to `transformed_cell` argument and any exception that happen during thetransform in `preprocessing_exc_tuple` in IPython 7.17 and above.\n",
      "\n"
     ]
    }
   ],
   "source": [
    "new_bigrams = (pd.Series(nltk.ngrams(words, 2)).value_counts())[:20]\n",
    "new_trigrams = (pd.Series(nltk.ngrams(words, 3)).value_counts())[:20]\n"
   ]
  },
  {
   "cell_type": "code",
   "execution_count": 45,
   "id": "0278cf0f",
   "metadata": {},
   "outputs": [
    {
     "name": "stderr",
     "output_type": "stream",
     "text": [
      "C:\\Users\\Dinesh\\anaconda3\\lib\\site-packages\\ipykernel\\ipkernel.py:287: DeprecationWarning:\n",
      "\n",
      "`should_run_async` will not call `transform_cell` automatically in the future. Please pass the result to `transformed_cell` argument and any exception that happen during thetransform in `preprocessing_exc_tuple` in IPython 7.17 and above.\n",
      "\n"
     ]
    }
   ],
   "source": [
    "b1 = pd.DataFrame({'bigrams':new_bigrams.index, 'values':new_bigrams.values})\n",
    "t1 = pd.DataFrame({'trigrams':new_trigrams.index, 'values':new_trigrams.values})"
   ]
  },
  {
   "cell_type": "code",
   "execution_count": 46,
   "id": "0a4419b3",
   "metadata": {},
   "outputs": [
    {
     "name": "stderr",
     "output_type": "stream",
     "text": [
      "C:\\Users\\Dinesh\\anaconda3\\lib\\site-packages\\ipykernel\\ipkernel.py:287: DeprecationWarning:\n",
      "\n",
      "`should_run_async` will not call `transform_cell` automatically in the future. Please pass the result to `transformed_cell` argument and any exception that happen during thetransform in `preprocessing_exc_tuple` in IPython 7.17 and above.\n",
      "\n"
     ]
    },
    {
     "data": {
      "text/plain": [
       "<AxesSubplot:xlabel='values', ylabel='bigrams'>"
      ]
     },
     "execution_count": 46,
     "metadata": {},
     "output_type": "execute_result"
    },
    {
     "data": {
      "image/png": "[encoded data removed]",
      "text/plain": [
       "<Figure size 720x720 with 1 Axes>"
      ]
     },
     "metadata": {
      "needs_background": "light"
     },
     "output_type": "display_data"
    }
   ],
   "source": [
    "f, ax = plt.subplots(figsize = (10,10))\n",
    "sns.barplot(x = 'values',y = 'bigrams',data = b1, orient = 'h')"
   ]
  },
  {
   "cell_type": "code",
   "execution_count": 47,
   "id": "757a7055",
   "metadata": {},
   "outputs": [
    {
     "name": "stderr",
     "output_type": "stream",
     "text": [
      "C:\\Users\\Dinesh\\anaconda3\\lib\\site-packages\\ipykernel\\ipkernel.py:287: DeprecationWarning:\n",
      "\n",
      "`should_run_async` will not call `transform_cell` automatically in the future. Please pass the result to `transformed_cell` argument and any exception that happen during thetransform in `preprocessing_exc_tuple` in IPython 7.17 and above.\n",
      "\n"
     ]
    },
    {
     "data": {
      "text/plain": [
       "<AxesSubplot:xlabel='values', ylabel='trigrams'>"
      ]
     },
     "execution_count": 47,
     "metadata": {},
     "output_type": "execute_result"
    },
    {
     "data": {
      "image/png": "[encoded data removed]",
      "text/plain": [
       "<Figure size 720x720 with 1 Axes>"
      ]
     },
     "metadata": {
      "needs_background": "light"
     },
     "output_type": "display_data"
    }
   ],
   "source": [
    "f, ax = plt.subplots(figsize = (10,10))\n",
    "sns.barplot(x = 'values',y = 'trigrams',data = t1, orient = 'h')"
   ]
  },
  {
   "cell_type": "markdown",
   "id": "5bbb5cfc",
   "metadata": {},
   "source": [
    "## Name Entity recognition"
   ]
  },
  {
   "cell_type": "code",
   "execution_count": 60,
   "id": "e40a1c3f",
   "metadata": {},
   "outputs": [
    {
     "name": "stderr",
     "output_type": "stream",
     "text": [
      "C:\\Users\\Dinesh\\anaconda3\\lib\\site-packages\\ipykernel\\ipkernel.py:287: DeprecationWarning:\n",
      "\n",
      "`should_run_async` will not call `transform_cell` automatically in the future. Please pass the result to `transformed_cell` argument and any exception that happen during thetransform in `preprocessing_exc_tuple` in IPython 7.17 and above.\n",
      "\n"
     ]
    },
    {
     "name": "stdout",
     "output_type": "stream",
     "text": [
      "Requirement already satisfied: spacy in c:\\users\\dinesh\\anaconda3\\lib\\site-packages (3.0.6)\n",
      "Requirement already satisfied: murmurhash<1.1.0,>=0.28.0 in c:\\users\\dinesh\\anaconda3\\lib\\site-packages (from spacy) (1.0.6)\n",
      "Requirement already satisfied: tqdm<5.0.0,>=4.38.0 in c:\\users\\dinesh\\anaconda3\\lib\\site-packages (from spacy) (4.59.0)\n",
      "Requirement already satisfied: pathy>=0.3.5 in c:\\users\\dinesh\\anaconda3\\lib\\site-packages (from spacy) (0.6.1)\n",
      "Requirement already satisfied: preshed<3.1.0,>=3.0.2 in c:\\users\\dinesh\\anaconda3\\lib\\site-packages (from spacy) (3.0.6)\n",
      "Requirement already satisfied: spacy-legacy<3.1.0,>=3.0.4 in c:\\users\\dinesh\\anaconda3\\lib\\site-packages (from spacy) (3.0.8)\n",
      "Requirement already satisfied: packaging>=20.0 in c:\\users\\dinesh\\anaconda3\\lib\\site-packages (from spacy) (21.3)\n",
      "Requirement already satisfied: wasabi<1.1.0,>=0.8.1 in c:\\users\\dinesh\\anaconda3\\lib\\site-packages (from spacy) (0.8.2)\n",
      "Requirement already satisfied: srsly<3.0.0,>=2.4.1 in c:\\users\\dinesh\\anaconda3\\lib\\site-packages (from spacy) (2.4.2)\n",
      "Requirement already satisfied: pydantic<1.8.0,>=1.7.1 in c:\\users\\dinesh\\anaconda3\\lib\\site-packages (from spacy) (1.7.3)\n",
      "Requirement already satisfied: catalogue<2.1.0,>=2.0.3 in c:\\users\\dinesh\\anaconda3\\lib\\site-packages (from spacy) (2.0.6)\n",
      "Requirement already satisfied: blis<0.8.0,>=0.4.0 in c:\\users\\dinesh\\anaconda3\\lib\\site-packages (from spacy) (0.7.5)\n",
      "Requirement already satisfied: cymem<2.1.0,>=2.0.2 in c:\\users\\dinesh\\anaconda3\\lib\\site-packages (from spacy) (2.0.6)\n",
      "Requirement already satisfied: requests<3.0.0,>=2.13.0 in c:\\users\\dinesh\\anaconda3\\lib\\site-packages (from spacy) (2.25.1)\n",
      "Requirement already satisfied: thinc<8.1.0,>=8.0.3 in c:\\users\\dinesh\\anaconda3\\lib\\site-packages (from spacy) (8.0.3)\n",
      "Requirement already satisfied: typer<0.4.0,>=0.3.0 in c:\\users\\dinesh\\anaconda3\\lib\\site-packages (from spacy) (0.3.2)\n",
      "Requirement already satisfied: numpy>=1.15.0 in c:\\users\\dinesh\\anaconda3\\lib\\site-packages (from spacy) (1.18.5)\n",
      "Requirement already satisfied: jinja2 in c:\\users\\dinesh\\anaconda3\\lib\\site-packages (from spacy) (2.11.3)\n",
      "Requirement already satisfied: setuptools in c:\\users\\dinesh\\anaconda3\\lib\\site-packages (from spacy) (52.0.0.post20210125)\n",
      "Requirement already satisfied: pyparsing!=3.0.5,>=2.0.2 in c:\\users\\dinesh\\anaconda3\\lib\\site-packages (from packaging>=20.0->spacy) (2.4.7)\n",
      "Requirement already satisfied: smart-open<6.0.0,>=5.0.0 in c:\\users\\dinesh\\anaconda3\\lib\\site-packages (from pathy>=0.3.5->spacy) (5.2.1)\n",
      "Requirement already satisfied: certifi>=2017.4.17 in c:\\users\\dinesh\\anaconda3\\lib\\site-packages (from requests<3.0.0,>=2.13.0->spacy) (2020.12.5)\n",
      "Requirement already satisfied: idna<3,>=2.5 in c:\\users\\dinesh\\anaconda3\\lib\\site-packages (from requests<3.0.0,>=2.13.0->spacy) (2.10)\n",
      "Requirement already satisfied: chardet<5,>=3.0.2 in c:\\users\\dinesh\\anaconda3\\lib\\site-packages (from requests<3.0.0,>=2.13.0->spacy) (4.0.0)\n",
      "Requirement already satisfied: urllib3<1.27,>=1.21.1 in c:\\users\\dinesh\\anaconda3\\lib\\site-packages (from requests<3.0.0,>=2.13.0->spacy) (1.26.4)\n",
      "Requirement already satisfied: click<7.2.0,>=7.1.1 in c:\\users\\dinesh\\anaconda3\\lib\\site-packages (from typer<0.4.0,>=0.3.0->spacy) (7.1.2)\n",
      "Requirement already satisfied: MarkupSafe>=0.23 in c:\\users\\dinesh\\anaconda3\\lib\\site-packages (from jinja2->spacy) (1.1.1)\n",
      "✔ Download and installation successful\n",
      "You can now load the package via spacy.load('en_core_web_sm')\n"
     ]
    }
   ],
   "source": [
    "! pip install spacy\n",
    "spacy.cli.download(\"en_core_web_sm\")\n",
    "import spacy\n",
    "nlp = spacy.load('en_core_web_sm')"
   ]
  },
  {
   "cell_type": "code",
   "execution_count": 62,
   "id": "01238a55",
   "metadata": {},
   "outputs": [
    {
     "name": "stderr",
     "output_type": "stream",
     "text": [
      "C:\\Users\\Dinesh\\anaconda3\\lib\\site-packages\\ipykernel\\ipkernel.py:287: DeprecationWarning:\n",
      "\n",
      "`should_run_async` will not call `transform_cell` automatically in the future. Please pass the result to `transformed_cell` argument and any exception that happen during thetransform in `preprocessing_exc_tuple` in IPython 7.17 and above.\n",
      "\n"
     ]
    }
   ],
   "source": [
    "tokens = nlp(''.join(str(df['text'].tolist())))"
   ]
  },
  {
   "cell_type": "code",
   "execution_count": 71,
   "id": "3ccf80f5",
   "metadata": {},
   "outputs": [
    {
     "name": "stderr",
     "output_type": "stream",
     "text": [
      "C:\\Users\\Dinesh\\anaconda3\\lib\\site-packages\\ipykernel\\ipkernel.py:287: DeprecationWarning:\n",
      "\n",
      "`should_run_async` will not call `transform_cell` automatically in the future. Please pass the result to `transformed_cell` argument and any exception that happen during thetransform in `preprocessing_exc_tuple` in IPython 7.17 and above.\n",
      "\n"
     ]
    },
    {
     "data": {
      "text/plain": [
       "[('one', 43),\n",
       " ('houston', 32),\n",
       " ('two', 16),\n",
       " ('first', 16),\n",
       " ('weekend', 13),\n",
       " ('second', 11),\n",
       " ('minutes', 10),\n",
       " ('evening', 9),\n",
       " ('night', 9),\n",
       " ('morning', 7),\n",
       " ('one night', 6),\n",
       " ('afternoon', 6),\n",
       " ('nyc', 4),\n",
       " ('sunday', 4),\n",
       " ('fifth', 4),\n",
       " ('days', 3),\n",
       " ('four', 3),\n",
       " ('third', 3),\n",
       " ('last minute', 3),\n",
       " ('early morning', 3)]"
      ]
     },
     "execution_count": 71,
     "metadata": {},
     "output_type": "execute_result"
    }
   ],
   "source": [
    "items = [x.text for x in tokens.ents]\n",
    "Counter(items).most_common(20)"
   ]
  }
 ],
 "metadata": {
  "kernelspec": {
   "display_name": "Python 3",
   "language": "python",
   "name": "python3"
  },
  "language_info": {
   "codemirror_mode": {
    "name": "ipython",
    "version": 3
   },
   "file_extension": ".py",
   "mimetype": "text/x-python",
   "name": "python",
   "nbconvert_exporter": "python",
   "pygments_lexer": "ipython3",
   "version": "3.8.8"
  }
 },
 "nbformat": 4,
 "nbformat_minor": 5
}
